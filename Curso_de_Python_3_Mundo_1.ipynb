{
  "nbformat": 4,
  "nbformat_minor": 0,
  "metadata": {
    "colab": {
      "name": "Curso de Python 3 - Mundo 1.ipynb",
      "provenance": [],
      "collapsed_sections": []
    },
    "kernelspec": {
      "name": "python3",
      "display_name": "Python 3"
    },
    "language_info": {
      "name": "python"
    }
  },
  "cells": [
    {
      "cell_type": "markdown",
      "metadata": {
        "id": "Pn0Ub9k5M0Sw"
      },
      "source": [
        "# **Curso Python - Curso em Vídeo - Mundo 1**"
      ]
    },
    {
      "cell_type": "code",
      "metadata": {
        "id": "LGV1kX35fkz1"
      },
      "source": [
        "#Como transformar uma celula especifica em zero\n",
        "df.at[11, 'No_Of_Clients'] = 0"
      ],
      "execution_count": null,
      "outputs": []
    },
    {
      "cell_type": "code",
      "metadata": {
        "colab": {
          "base_uri": "https://localhost:8080/"
        },
        "id": "C4TAnnpuMyFj",
        "outputId": "270838aa-98be-48e3-97ee-d15eb462ae65"
      },
      "source": [
        "print('Olá Mundo')"
      ],
      "execution_count": null,
      "outputs": [
        {
          "output_type": "stream",
          "name": "stdout",
          "text": [
            "Olá Mundo\n"
          ]
        }
      ]
    },
    {
      "cell_type": "code",
      "metadata": {
        "colab": {
          "base_uri": "https://localhost:8080/"
        },
        "id": "7COQdg3YNMvI",
        "outputId": "551525fd-d60b-43df-cc29-9f9954e7c152"
      },
      "source": [
        "print(7+4)"
      ],
      "execution_count": null,
      "outputs": [
        {
          "output_type": "stream",
          "name": "stdout",
          "text": [
            "11\n"
          ]
        }
      ]
    },
    {
      "cell_type": "code",
      "metadata": {
        "colab": {
          "base_uri": "https://localhost:8080/"
        },
        "id": "8BaoPYnnNRrW",
        "outputId": "400e8aed-9502-4023-e520-6a8a81f3de72"
      },
      "source": [
        "#Me mostre 7 e em seguida 4\n",
        "print('7'+'4')"
      ],
      "execution_count": null,
      "outputs": [
        {
          "output_type": "stream",
          "name": "stdout",
          "text": [
            "74\n"
          ]
        }
      ]
    },
    {
      "cell_type": "code",
      "metadata": {
        "colab": {
          "base_uri": "https://localhost:8080/"
        },
        "id": "450PlBsWNbTE",
        "outputId": "60b139e8-60bd-4dbb-fef7-8dd4d16873f8"
      },
      "source": [
        "7+4"
      ],
      "execution_count": null,
      "outputs": [
        {
          "output_type": "execute_result",
          "data": {
            "text/plain": [
              "11"
            ]
          },
          "metadata": {},
          "execution_count": 4
        }
      ]
    },
    {
      "cell_type": "code",
      "metadata": {
        "colab": {
          "base_uri": "https://localhost:8080/",
          "height": 35
        },
        "id": "8NFJiVPtNvtO",
        "outputId": "8e4b0d97-a378-456e-ce04-187cdb5bc23e"
      },
      "source": [
        "'7'+'4'"
      ],
      "execution_count": null,
      "outputs": [
        {
          "output_type": "execute_result",
          "data": {
            "application/vnd.google.colaboratory.intrinsic+json": {
              "type": "string"
            },
            "text/plain": [
              "'74'"
            ]
          },
          "metadata": {},
          "execution_count": 5
        }
      ]
    },
    {
      "cell_type": "code",
      "metadata": {
        "colab": {
          "base_uri": "https://localhost:8080/"
        },
        "id": "CgJ1rSPEN2fG",
        "outputId": "dfbeab88-b50f-4813-b8f4-0b7414f5e3f2"
      },
      "source": [
        "print('Olá', 5)"
      ],
      "execution_count": null,
      "outputs": [
        {
          "output_type": "stream",
          "name": "stdout",
          "text": [
            "Olá 5\n"
          ]
        }
      ]
    },
    {
      "cell_type": "code",
      "metadata": {
        "colab": {
          "base_uri": "https://localhost:8080/"
        },
        "id": "CDxLWs1eOmPB",
        "outputId": "ed3dd7d2-e97a-4ea4-efe1-d680db357f96"
      },
      "source": [
        "nome='Guanabara'\n",
        "idade=25\n",
        "peso=75.8\n",
        "#A virgula deve ser usada por causa da presenca de numeros\n",
        "print(nome, idade, peso)"
      ],
      "execution_count": null,
      "outputs": [
        {
          "output_type": "stream",
          "name": "stdout",
          "text": [
            "Guanabara 25 75.8\n"
          ]
        }
      ]
    },
    {
      "cell_type": "code",
      "metadata": {
        "colab": {
          "base_uri": "https://localhost:8080/"
        },
        "id": "68VKnlBbPg4A",
        "outputId": "c096fd44-38c6-4116-d974-4b7f4e0f9aab"
      },
      "source": [
        "nome=input('Qual é o seu nome?')\n",
        "idade=input('Quantos anos você tem?')\n",
        "peso=input('Qual é o seu peso?')\n",
        "print(nome, idade, peso)"
      ],
      "execution_count": null,
      "outputs": [
        {
          "output_type": "stream",
          "name": "stdout",
          "text": [
            "Qual é o seu nome?João\n",
            "Quantos anos você tem?44\n",
            "Qual é o seu peso?190\n",
            "João 44 190\n"
          ]
        }
      ]
    },
    {
      "cell_type": "code",
      "metadata": {
        "colab": {
          "base_uri": "https://localhost:8080/"
        },
        "id": "hLVuZS_8U8Zd",
        "outputId": "c39eeffe-8987-4351-dd62-3f5a0356ba92"
      },
      "source": [
        "n1=int(input('Digite um número:'))\n",
        "n2=int(input('Digite um segundo número:'))\n",
        "s=n1+n2\n",
        "print('A soma vale', s)\n",
        "#Uma segunda forma de printar essa mensagem\n",
        "print('A soma vale {}'32 .format(s))"
      ],
      "execution_count": null,
      "outputs": [
        {
          "output_type": "stream",
          "name": "stdout",
          "text": [
            "Digite um número:5\n",
            "Digite um segundo número:3\n",
            "A soma vale 8\n",
            "A soma vale 8\n"
          ]
        }
      ]
    },
    {
      "cell_type": "code",
      "metadata": {
        "colab": {
          "base_uri": "https://localhost:8080/"
        },
        "id": "iDH2-cDAXbDc",
        "outputId": "4d820844-a881-44f8-950c-d14654123b9c"
      },
      "source": [
        "n1=int(input('Digite um número:'))\n",
        "n2=int(input('Digite um segundo número:'))\n",
        "s=n1+n2\n",
        "#print('A soma entre', n1, 'e', n2, 'vale:', s)\n",
        "print('A soma entre {} e {} vale {}'.format(n1, n2, s))"
      ],
      "execution_count": null,
      "outputs": [
        {
          "output_type": "stream",
          "name": "stdout",
          "text": [
            "Digite um número:5\n",
            "Digite um segundo número:4\n",
            "A soma entre 5 e 4 vale 9\n"
          ]
        }
      ]
    },
    {
      "cell_type": "code",
      "metadata": {
        "id": "nAqI1iFga7Zc"
      },
      "source": [
        "#Ordem de precedencia\n",
        "# (), **, *, /, //, %. +, -"
      ],
      "execution_count": null,
      "outputs": []
    },
    {
      "cell_type": "code",
      "metadata": {
        "colab": {
          "base_uri": "https://localhost:8080/"
        },
        "id": "lUBnxVIbbeqC",
        "outputId": "0996f65c-f78b-4fd7-9a70-69e2e23a3761"
      },
      "source": [
        "5+2"
      ],
      "execution_count": null,
      "outputs": [
        {
          "output_type": "execute_result",
          "data": {
            "text/plain": [
              "7"
            ]
          },
          "metadata": {},
          "execution_count": 14
        }
      ]
    },
    {
      "cell_type": "code",
      "metadata": {
        "colab": {
          "base_uri": "https://localhost:8080/"
        },
        "id": "wzjMdEosbh0U",
        "outputId": "6858da54-8d85-4f99-c055-08480b0ba6c7"
      },
      "source": [
        "5-2"
      ],
      "execution_count": null,
      "outputs": [
        {
          "output_type": "execute_result",
          "data": {
            "text/plain": [
              "3"
            ]
          },
          "metadata": {},
          "execution_count": 15
        }
      ]
    },
    {
      "cell_type": "code",
      "metadata": {
        "colab": {
          "base_uri": "https://localhost:8080/"
        },
        "id": "mmq1cBECbjrF",
        "outputId": "55b4cc15-0463-4d83-dbd8-0d94d62c2015"
      },
      "source": [
        "5*2"
      ],
      "execution_count": null,
      "outputs": [
        {
          "output_type": "execute_result",
          "data": {
            "text/plain": [
              "10"
            ]
          },
          "metadata": {},
          "execution_count": 16
        }
      ]
    },
    {
      "cell_type": "code",
      "metadata": {
        "colab": {
          "base_uri": "https://localhost:8080/"
        },
        "id": "nxxTNM6JblPo",
        "outputId": "ccdca405-6f34-4252-ba33-fc8e5e193ba9"
      },
      "source": [
        "5/2"
      ],
      "execution_count": null,
      "outputs": [
        {
          "output_type": "execute_result",
          "data": {
            "text/plain": [
              "2.5"
            ]
          },
          "metadata": {},
          "execution_count": 17
        }
      ]
    },
    {
      "cell_type": "code",
      "metadata": {
        "colab": {
          "base_uri": "https://localhost:8080/"
        },
        "id": "myCnZdqybmll",
        "outputId": "9ba9a4e3-5b21-480d-801d-bedbf8f47062"
      },
      "source": [
        "5**2"
      ],
      "execution_count": null,
      "outputs": [
        {
          "output_type": "execute_result",
          "data": {
            "text/plain": [
              "25"
            ]
          },
          "metadata": {},
          "execution_count": 18
        }
      ]
    },
    {
      "cell_type": "code",
      "metadata": {
        "colab": {
          "base_uri": "https://localhost:8080/"
        },
        "id": "9agSc1z4boc0",
        "outputId": "b51d1431-20d9-43bf-97b9-dd672332fad5"
      },
      "source": [
        "5//2"
      ],
      "execution_count": null,
      "outputs": [
        {
          "output_type": "execute_result",
          "data": {
            "text/plain": [
              "2"
            ]
          },
          "metadata": {},
          "execution_count": 19
        }
      ]
    },
    {
      "cell_type": "code",
      "metadata": {
        "colab": {
          "base_uri": "https://localhost:8080/"
        },
        "id": "THOauBNibqKa",
        "outputId": "5f486549-bf3f-4dba-978c-9c05807547b4"
      },
      "source": [
        "5%2"
      ],
      "execution_count": null,
      "outputs": [
        {
          "output_type": "execute_result",
          "data": {
            "text/plain": [
              "1"
            ]
          },
          "metadata": {},
          "execution_count": 20
        }
      ]
    },
    {
      "cell_type": "code",
      "metadata": {
        "colab": {
          "base_uri": "https://localhost:8080/"
        },
        "id": "eD85_Mnhclyz",
        "outputId": "24850431-70fd-45a9-adf5-29a36b7cf9d9"
      },
      "source": [
        "nome=input('Qual é o seu nome?')\n",
        "print('Prazer em te conhecer {:>15}!'.format(nome))\n",
        "print('Prazer em te conhecer {:<15}!'.format(nome))\n",
        "print('Prazer em te conhecer {:^15}!'.format(nome))\n",
        "print('Prazer em te conhecer {:=^15}!'.format(nome))"
      ],
      "execution_count": null,
      "outputs": [
        {
          "output_type": "stream",
          "name": "stdout",
          "text": [
            "Qual é o seu nome?Ana\n",
            "Prazer em te conhecer             Ana!\n",
            "Prazer em te conhecer Ana            !\n",
            "Prazer em te conhecer       Ana      !\n",
            "Prazer em te conhecer ======Ana======!\n"
          ]
        }
      ]
    },
    {
      "cell_type": "code",
      "metadata": {
        "colab": {
          "base_uri": "https://localhost:8080/"
        },
        "id": "uNT0Oro5eePB",
        "outputId": "8906df9f-57c7-4a0b-e09f-317cbe70bf4a"
      },
      "source": [
        "n1=int(input('Digite um número:'))\n",
        "n2=int(input('Digite um segundo número:'))\n",
        "s=n1+n2\n",
        "m=n1*n2\n",
        "d=n1/n2\n",
        "di=n1//n2\n",
        "e=n1**n2\n",
        "print('A soma é {}, \\n o produto é {} \\n e a divisão é {:.3f}'.format(s, m, d), end=' ')\n",
        "print('Divisão inteira {} e potência {}'.format(di, e))"
      ],
      "execution_count": null,
      "outputs": [
        {
          "output_type": "stream",
          "name": "stdout",
          "text": [
            "Digite um número:4\n",
            "Digite um segundo número:5\n",
            "A soma é 9, \n",
            " o produto é 20 \n",
            " e a divisão é 0.800 Divisão inteira 0 e potência 1024\n"
          ]
        }
      ]
    },
    {
      "cell_type": "code",
      "metadata": {
        "id": "lSqctR0I9iKV"
      },
      "source": [
        "#Exemplo de uso do f'string\n",
        "def arruma_coluna(nome):\n",
        "  # nome[0] -> primeira posição da tupla\n",
        "  if 'Unnamed' in nome[0] and 'Unnamed' in nome[1]:\n",
        "    return ' '\n",
        "  elif 'Unnamed' in nome[0]: # Tem nome apenas na segunda parte\n",
        "    return nome[1]\n",
        "  else: # Concatenamos os dois nomes em uma coluna só\n",
        "    return f'{nome[0]} - {nome[1]}'"
      ],
      "execution_count": null,
      "outputs": []
    },
    {
      "cell_type": "code",
      "metadata": {
        "colab": {
          "base_uri": "https://localhost:8080/"
        },
        "id": "LhbC3oXkO5UH",
        "outputId": "9496f061-695e-44fb-f2e9-90724d7aebb4"
      },
      "source": [
        "frase='Curso em Vídeo Python'\n",
        "print(frase[1::2])"
      ],
      "execution_count": null,
      "outputs": [
        {
          "output_type": "stream",
          "name": "stdout",
          "text": [
            "us mVdoPto\n"
          ]
        }
      ]
    }
  ]
}