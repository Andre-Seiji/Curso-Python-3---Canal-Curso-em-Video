{
  "nbformat": 4,
  "nbformat_minor": 0,
  "metadata": {
    "colab": {
      "name": "Curso de Python 3 - Mundo 3.ipynb",
      "provenance": [],
      "collapsed_sections": []
    },
    "kernelspec": {
      "name": "python3",
      "display_name": "Python 3"
    },
    "language_info": {
      "name": "python"
    }
  },
  "cells": [
    {
      "cell_type": "markdown",
      "metadata": {
        "id": "Pn0Ub9k5M0Sw"
      },
      "source": [
        "# **Curso Python - Curso em Vídeo - Mundo 3**"
      ]
    },
    {
      "cell_type": "markdown",
      "metadata": {
        "id": "loUUdM1k1KPK"
      },
      "source": [
        "# **Tuplas**\n",
        "Utiliza-se '( )' e não podem ser modificadas"
      ]
    },
    {
      "cell_type": "code",
      "metadata": {
        "id": "MjjW-RZE1NtY",
        "colab": {
          "base_uri": "https://localhost:8080/"
        },
        "outputId": "1f320640-6047-4608-8db9-13e48ff9eeaf"
      },
      "source": [
        "#As tuplas sao imutaveis\n",
        "lanche=('Hamburguer', 'Suco', 'Pizza', 'Pudim')\n",
        "print(lanche)\n",
        "print(lanche[1])\n",
        "print(lanche[-2:])\n",
        "for cont in range(0, len(lanche)):\n",
        "  print(lanche[cont])\n",
        "for pos, comida in enumerate(lanche):\n",
        "  print(f'Vou comer {comida} na posição {pos}')\n",
        "print(sorted(lanche))"
      ],
      "execution_count": null,
      "outputs": [
        {
          "output_type": "stream",
          "name": "stdout",
          "text": [
            "('Hamburguer', 'Suco', 'Pizza', 'Pudim')\n",
            "Suco\n",
            "('Pizza', 'Pudim')\n",
            "Hamburguer\n",
            "Suco\n",
            "Pizza\n",
            "Pudim\n",
            "Vou comer Hamburguer na posição 0\n",
            "Vou comer Suco na posição 1\n",
            "Vou comer Pizza na posição 2\n",
            "Vou comer Pudim na posição 3\n",
            "['Hamburguer', 'Pizza', 'Pudim', 'Suco']\n"
          ]
        }
      ]
    },
    {
      "cell_type": "code",
      "metadata": {
        "colab": {
          "base_uri": "https://localhost:8080/"
        },
        "id": "OheN7zv66cbA",
        "outputId": "67fb9e46-b818-4e67-d9e8-069338e040df"
      },
      "source": [
        "a=(2,5,4)\n",
        "b=(5,8,1,2)\n",
        "#Nao vai somar. Vai juntar\n",
        "c=a+b\n",
        "#Quantas vezes aparece o numero 5\n",
        "print(c.count(5))"
      ],
      "execution_count": null,
      "outputs": [
        {
          "output_type": "stream",
          "name": "stdout",
          "text": [
            "2\n"
          ]
        }
      ]
    },
    {
      "cell_type": "code",
      "metadata": {
        "colab": {
          "base_uri": "https://localhost:8080/"
        },
        "id": "zMmxKOVF9rci",
        "outputId": "76efb886-0a95-42dc-c37c-881d19391aac"
      },
      "source": [
        "#Desafio 072 - Numero por extenso\n",
        "t=('zero', 'um', 'dois', 'tres', 'quatro', 'cinco', 'seis', 'sete', 'oito', 'nove', 'dez', \n",
        "   'onze', 'doze', 'treze', 'quatorze', 'quinze', 'dezesseis', 'dezessete', 'dezoito', 'dezenove', 'vinte')\n",
        "\n",
        "while True:\n",
        "  d=(int(input('Digite um número: ')))\n",
        "  if 0<=d<=20:\n",
        "    break\n",
        "  print('Tente novamente. ', end='')\n",
        "print(f'Você digitou o número {t[d]}')\n"
      ],
      "execution_count": null,
      "outputs": [
        {
          "output_type": "stream",
          "name": "stdout",
          "text": [
            "Digite um número: 40\n",
            "Tente novamente. Digite um número: 2\n",
            "Você digitou o número dois\n"
          ]
        }
      ]
    },
    {
      "cell_type": "code",
      "metadata": {
        "id": "GiFxYmy52UKc",
        "colab": {
          "base_uri": "https://localhost:8080/"
        },
        "outputId": "47bf2cf5-e1ff-4730-c42f-156f572978f8"
      },
      "source": [
        "#Desafio 073 - 20 primeiros colocados do brasileirao. Mostrar: os 5 primeiros, os 4 ultimos, ordem alfabetica e a posicao do chapecoense (ele nao saiu da serie A?)\n",
        "a=('Atlético-MG', 'Palmeiras', 'Fortaleza', 'Bragantino', 'Flamengo', 'Corinthians', 'Fluminense', \n",
        "   'Atlético-GO', 'Athlético-PR', 'Ceará', 'Cuiabá', 'Internacional', 'Juventude', 'Santos', 'São Paulo', 'Bahia', 'América-MG', 'Sport', 'Grêmio', 'Chapecoense')\n",
        "#Contar quantos times\n",
        "#len(a)\n",
        "while True:\n",
        "  p=0\n",
        "  print('Os cinco primeiros são: \\n')\n",
        "  while p<5:\n",
        "    print(f'{a[p]}')\n",
        "    p+=1\n",
        "  u=1\n",
        "  print('-='*10)\n",
        "  print('Os quatro últimos são: \\n')\n",
        "  while u<5:\n",
        "    print(f'{a[-u]}')\n",
        "    u+=1\n",
        "  print('-='*10)\n",
        "  print('Ordem alfabética: \\n')\n",
        "  print(sorted(a))\n",
        "\n",
        "  print(f'O chapecoense está na {a.index(\"Chapecoense\")+1}ª posição')\n",
        "  break"
      ],
      "execution_count": null,
      "outputs": [
        {
          "output_type": "stream",
          "name": "stdout",
          "text": [
            "Os cinco primeiros são: \n",
            "\n",
            "Atlético-MG\n",
            "Palmeiras\n",
            "Fortaleza\n",
            "Bragantino\n",
            "Flamengo\n",
            "-=-=-=-=-=-=-=-=-=-=\n",
            "Os quatro últimos são: \n",
            "\n",
            "Chapecoense\n",
            "Grêmio\n",
            "Sport\n",
            "América-MG\n",
            "-=-=-=-=-=-=-=-=-=-=\n",
            "Ordem alfabética: \n",
            "\n",
            "['América-MG', 'Athlético-PR', 'Atlético-GO', 'Atlético-MG', 'Bahia', 'Bragantino', 'Ceará', 'Chapecoense', 'Corinthians', 'Cuiabá', 'Flamengo', 'Fluminense', 'Fortaleza', 'Grêmio', 'Internacional', 'Juventude', 'Palmeiras', 'Santos', 'Sport', 'São Paulo']\n",
            "O chapecoense está na 20ª posição\n"
          ]
        }
      ]
    },
    {
      "cell_type": "code",
      "metadata": {
        "colab": {
          "base_uri": "https://localhost:8080/"
        },
        "id": "nziaueRTaZUc",
        "outputId": "b8a1b0ca-fea2-4a2f-d5cf-6224672e90a3"
      },
      "source": [
        "#Desafio 074 - Gerar 5 numeros aleatorios numa tupla. Indique o menor e o maior\n",
        "from random import randint\n",
        "numeros=(randint(1,10), randint(1, 10), randint(1, 10), randint(1, 10), randint(1,10))\n",
        "print('Os valores sorteados são: ')\n",
        "for n in numeros:\n",
        "  print(f'{n} ', end='')\n",
        "print(f'\\n o maior número foi {max(numeros)}')\n",
        "print(f' o menor número foi {min(numeros)}')"
      ],
      "execution_count": null,
      "outputs": [
        {
          "output_type": "stream",
          "name": "stdout",
          "text": [
            "Os valores sorteados são: \n",
            "3 6 7 9 4 \n",
            " o maior número foi 9\n",
            " o menor número foi 3\n"
          ]
        }
      ]
    },
    {
      "cell_type": "code",
      "metadata": {
        "colab": {
          "base_uri": "https://localhost:8080/"
        },
        "id": "ZbzU1hF3iB2R",
        "outputId": "230df18f-cb13-4a6a-fe89-b2b70b955cf2"
      },
      "source": [
        "#Desafio 075 - Ler quatro valores. Mostrar: quantas vezes apareceu o numero 9, a posicao do primeiro valor 3 e quais foram os numeros pares\n",
        "num=(int(input('Digite o primeiro número: ')),\n",
        "     int(input('Digite o segundo número: ')),\n",
        "     int(input('Digite o terceiro número: ')),\n",
        "     int(input('Digite o quarto número: ')))\n",
        "print(f'Você digitou: {num}')\n",
        "print(f'O valor 9 apareceu {num.count(9)} vezes')\n",
        "if 3 in num:\n",
        "  print(f'O número 3 apareceu na {num.index(3)+1}ª posição')\n",
        "else:\n",
        "  print(f'O número 3 não foi digitado')\n",
        "print('Os valores pares obtidos foram: ')\n",
        "for i in num:\n",
        "  if i%2 == 0:\n",
        "    print(i, end='')"
      ],
      "execution_count": null,
      "outputs": [
        {
          "output_type": "stream",
          "name": "stdout",
          "text": [
            "Digite o primeiro número: 1\n",
            "Digite o segundo número: 2\n",
            "Digite o terceiro número: 3\n",
            "Digite o quarto número: 4\n",
            "Você digitou: (1, 2, 3, 4)\n",
            "O valor 9 apareceu 0 vezes\n",
            "O número 3 apareceu na 3ª posição\n",
            "Os valores pares obtidos foram: \n",
            "24"
          ]
        }
      ]
    },
    {
      "cell_type": "code",
      "metadata": {
        "id": "6EMaH7F6CfB5",
        "colab": {
          "base_uri": "https://localhost:8080/"
        },
        "outputId": "e295f8d0-9513-4401-e9dd-f2bbfb5374b0"
      },
      "source": [
        "#Desafio 076 - Tupla com produto e preco\n",
        "listagem=('Lápis', 1.75, 'Borracha', 2, 'Caderno', 15.90, 'Estojo', 25, 'Transferidor', 4.20, 'Compasso', 9.99, 'Mochila', 120.32, 'Canetas', 22.30, 'Livro', 34.90)\n",
        "print('-' * 40)\n",
        "print(f'{\"LISTAGEM DE PREÇOS\":^40}')\n",
        "print('-' * 40)\n",
        "for pos in range(0, len(listagem)):\n",
        "  if pos%2 == 0:\n",
        "    print(f'{listagem[pos]:.<30}', end='')\n",
        "  else:\n",
        "    #7.2f para mostrar com 2 casas decimais\n",
        "    print(f'R${listagem[pos]:>7.2f}')\n",
        "print('-' * 40)\n"
      ],
      "execution_count": null,
      "outputs": [
        {
          "output_type": "stream",
          "name": "stdout",
          "text": [
            "----------------------------------------\n",
            "           LISTAGEM DE PREÇOS           \n",
            "----------------------------------------\n",
            "Lápis.........................R$   1.75\n",
            "Borracha......................R$   2.00\n",
            "Caderno.......................R$  15.90\n",
            "Estojo........................R$  25.00\n",
            "Transferidor..................R$   4.20\n",
            "Compasso......................R$   9.99\n",
            "Mochila.......................R$ 120.32\n",
            "Canetas.......................R$  22.30\n",
            "Livro.........................R$  34.90\n",
            "----------------------------------------\n"
          ]
        }
      ]
    },
    {
      "cell_type": "markdown",
      "metadata": {
        "id": "B6IxMV6FreS0"
      },
      "source": [
        "# **Listas**\n",
        "Utiliza-se '[ ]' e podem ser modificadas"
      ]
    },
    {
      "cell_type": "code",
      "metadata": {
        "colab": {
          "base_uri": "https://localhost:8080/"
        },
        "id": "gEGdFeUSrhXT",
        "outputId": "5fc9ae99-6a42-478d-fcdc-8a2edc895635"
      },
      "source": [
        "#.append() para adicionar um elemento novo no final da lista\n",
        "#.insert(0, ) para adicionar um elemento na posição zero\n",
        "lanche=['Cachorro-quente', 'Hambúrguer', 'Suco', 'Pizza']\n",
        "#del lanche[3]\n",
        "#lanche.pop(3)\n",
        "lanche.remove('Pizza')\n",
        "lanche"
      ],
      "execution_count": null,
      "outputs": [
        {
          "output_type": "execute_result",
          "data": {
            "text/plain": [
              "['Cachorro-quente', 'Hambúrguer', 'Suco']"
            ]
          },
          "metadata": {},
          "execution_count": 8
        }
      ]
    },
    {
      "cell_type": "code",
      "metadata": {
        "colab": {
          "base_uri": "https://localhost:8080/"
        },
        "id": "NjLl7cVw9Szn",
        "outputId": "46cfdad8-8ea2-430f-f45d-e7ff43aba73b"
      },
      "source": [
        "valores=list(range(4,11))\n",
        "valores"
      ],
      "execution_count": null,
      "outputs": [
        {
          "output_type": "execute_result",
          "data": {
            "text/plain": [
              "[4, 5, 6, 7, 8, 9, 10]"
            ]
          },
          "metadata": {},
          "execution_count": 1
        }
      ]
    },
    {
      "cell_type": "code",
      "metadata": {
        "colab": {
          "base_uri": "https://localhost:8080/"
        },
        "id": "-yy-IQdj9o3F",
        "outputId": "554c92d4-cfcc-4761-e2c7-b901c5b40a75"
      },
      "source": [
        "valores=[8,2,5,4,9,3,0]\n",
        "valores\n",
        "valores.sort()\n",
        "valores.sort(reverse=True)\n",
        "valores"
      ],
      "execution_count": null,
      "outputs": [
        {
          "output_type": "execute_result",
          "data": {
            "text/plain": [
              "[9, 8, 5, 4, 3, 2, 0]"
            ]
          },
          "metadata": {},
          "execution_count": 5
        }
      ]
    },
    {
      "cell_type": "code",
      "metadata": {
        "colab": {
          "base_uri": "https://localhost:8080/"
        },
        "id": "J01QopFf99uk",
        "outputId": "b6cbcf99-d9d9-4bba-ca6d-4df6023ac4b3"
      },
      "source": [
        "len(valores)"
      ],
      "execution_count": null,
      "outputs": [
        {
          "output_type": "execute_result",
          "data": {
            "text/plain": [
              "7"
            ]
          },
          "metadata": {},
          "execution_count": 6
        }
      ]
    },
    {
      "cell_type": "code",
      "metadata": {
        "colab": {
          "base_uri": "https://localhost:8080/"
        },
        "id": "LLb1lkTl-JVf",
        "outputId": "d5315f15-cfae-463d-e873-5ba0ae24b5ea"
      },
      "source": [
        "#Tupla\n",
        "#num=(2,5,9,1)\n",
        "#lista\n",
        "num=[2,5,9,1]\n",
        "num[2]=3\n",
        "num.append(7)\n",
        "num"
      ],
      "execution_count": null,
      "outputs": [
        {
          "output_type": "execute_result",
          "data": {
            "text/plain": [
              "[2, 5, 3, 1, 7]"
            ]
          },
          "metadata": {},
          "execution_count": 12
        }
      ]
    },
    {
      "cell_type": "code",
      "metadata": {
        "colab": {
          "base_uri": "https://localhost:8080/"
        },
        "id": "nYPcIOi3vErx",
        "outputId": "9ac946a9-ec24-412f-ebb0-cb7e2fe1f2a0"
      },
      "source": [
        "#Desafio 078 - lista com 5 valores numericos. Mostrar o maior e o menor e suas posicoes\n",
        "num=[int(input('Digite um número para posição 0: ')),\n",
        "     int(input('Digite um número para posição 1: ')), \n",
        "     int(input('Digite um número para posição 2: ')), \n",
        "     int(input('Digite um número para posição 3: ')), \n",
        "     int(input('Digite um número para posição 4: '))]\n",
        "menor=num[0]\n",
        "maior=num[0]\n",
        "a=0\n",
        "b=0\n",
        "print(f'Você digitou: {num}')\n",
        "for pos in range(0, len(num)):\n",
        "  if num[pos]>maior:\n",
        "    maior=num[pos]\n",
        "    a=num.index(num[pos])\n",
        "\n",
        "  if num[pos]<menor:\n",
        "    menor=num[pos]\n",
        "    b=num.index(num[pos])\n",
        "\n",
        "print(f'O maior número foi o {maior} digitado na posição número:\\n.')\n",
        "for i, v in enumerate(num):\n",
        "  if v == maior:\n",
        "    print(f'{i}...', end='')\n",
        "print()\n",
        "print(f'Já o menor número foi o {menor} na posição número\\n')\n",
        "for i, v in enumerate(num):\n",
        "  if v == menor:\n",
        "    print(f'{i}...', end='')\n",
        "print()"
      ],
      "execution_count": null,
      "outputs": [
        {
          "output_type": "stream",
          "name": "stdout",
          "text": [
            "Digite um número para posição 0: 5\n",
            "Digite um número para posição 1: 5\n",
            "Digite um número para posição 2: 4\n",
            "Digite um número para posição 3: 3\n",
            "Digite um número para posição 4: 3\n",
            "Você digitou: [5, 5, 4, 3, 3]\n",
            "O maior número foi o 5 digitado na posição número:\n",
            ".\n",
            "0...1...Já o menor número foi o 3 na posição número\n",
            "\n",
            "3...4..."
          ]
        }
      ]
    },
    {
      "cell_type": "code",
      "metadata": {
        "colab": {
          "base_uri": "https://localhost:8080/"
        },
        "id": "-Y0TjXMI45i7",
        "outputId": "755c2c42-3054-4d06-dcd1-5d69f30bc0e9"
      },
      "source": [
        "#Desafio 079 - Cadastro de numeros. Quando houver repeticao, nao registrar. No final mostrar toda a lista\n",
        "num=[]\n",
        "\n",
        "while True:\n",
        "  a=int(input('Digite um número: '))\n",
        "  if a not in num:\n",
        "    num.append(a)\n",
        "  r=' '\n",
        "  while r not in 'SN':\n",
        "    r=str(input('Quer continuar? (s/n) ')).strip().upper()[0]\n",
        "  if r == 'N': \n",
        "    print('end')\n",
        "    break\n",
        "num.sort()  \n",
        "print(num)"
      ],
      "execution_count": null,
      "outputs": [
        {
          "output_type": "stream",
          "name": "stdout",
          "text": [
            "Digite um número: 25\n",
            "Quer continuar? (s/n)s\n",
            "Digite um número: 5\n",
            "Quer continuar? (s/n)s\n",
            "Digite um número: 25\n",
            "Quer continuar? (s/n)s\n",
            "Digite um número: 3\n",
            "Quer continuar? (s/n)n\n",
            "end\n",
            "[3, 5, 25]\n"
          ]
        }
      ]
    },
    {
      "cell_type": "code",
      "metadata": {
        "colab": {
          "base_uri": "https://localhost:8080/"
        },
        "id": "yEozlOlLKCsY",
        "outputId": "e17a45ad-8c12-4bdc-d041-0bc9936b7ca2"
      },
      "source": [
        "#Desafio 080 - Cadastrar 5 numeros em ordem crescente sem usar a funcao sort()\n",
        "num=[]\n",
        "for i in range(0,4):\n",
        "  a=(int(input('Digite um número: ')))\n",
        "  if i==0 or a >= num[len(num)-1]:\n",
        "    num.append(a)\n",
        "    print('Adicionado no final da lista')\n",
        "  else:\n",
        "    pos=0\n",
        "    while pos < len(num):\n",
        "      if a <= num[pos]:\n",
        "        num.insert(pos, a)\n",
        "        print(f'Adicionado na posição {pos} da lista...')\n",
        "        break\n",
        "      pos+=1\n",
        "      \n",
        "print('-='*30)\n",
        "print(f'Os valores adicionados em ordem foram {num}')"
      ],
      "execution_count": null,
      "outputs": [
        {
          "output_type": "stream",
          "name": "stdout",
          "text": [
            "Digite um número: 6\n",
            "Adicionado no final da lista\n",
            "Digite um número: 8\n",
            "Adicionado no final da lista\n",
            "Digite um número: 2\n",
            "Adicionado na posição 0 da lista...\n",
            "Digite um número: 1\n",
            "Adicionado na posição 0 da lista...\n",
            "-=-=-=-=-=-=-=-=-=-=-=-=-=-=-=-=-=-=-=-=-=-=-=-=-=-=-=-=-=-=\n",
            "Os valores adicionados em ordem foram [1, 2, 6, 8]\n"
          ]
        }
      ]
    },
    {
      "cell_type": "code",
      "metadata": {
        "colab": {
          "base_uri": "https://localhost:8080/"
        },
        "id": "NE8FGWCxeLwH",
        "outputId": "1f0e3947-10ed-446d-95a2-9b4f017070df"
      },
      "source": [
        "#Desafio 081 - Lista com varios numeros. Mostrar quantos numeros foram digitados, \n",
        "#a lista em ordem decrescente e se o valor '5' esta na lista ou nao\n",
        "num=[]\n",
        "while True:\n",
        "  a=int(input('Digite um número: '))\n",
        "  num.append(a)\n",
        "  r=' '\n",
        "  while r not in 'SN':\n",
        "    r=str(input('Quer continuar (s/n)? ')).strip().upper()[0]\n",
        "  if r=='N':\n",
        "    print('Fim')\n",
        "    break\n",
        "if 5 in num:\n",
        "  print('O número 5 está presente')\n",
        "num.sort(reverse=True)\n",
        "print(len(num))\n",
        "print(num)"
      ],
      "execution_count": null,
      "outputs": [
        {
          "output_type": "stream",
          "name": "stdout",
          "text": [
            "Digite um número: 8\n",
            "Quer continuar (s/n)? s\n",
            "Digite um número: 5\n",
            "Quer continuar (s/n)? s\n",
            "Digite um número: 4\n",
            "Quer continuar (s/n)? s\n",
            "Digite um número: 1\n",
            "Quer continuar (s/n)? n\n",
            "Fim\n",
            "O número 5 está presente\n",
            "4\n",
            "[8, 5, 4, 1]\n"
          ]
        }
      ]
    },
    {
      "cell_type": "code",
      "metadata": {
        "colab": {
          "base_uri": "https://localhost:8080/"
        },
        "id": "z8ZUOpnUjOa9",
        "outputId": "c5e8bc19-e3d1-433f-d954-497e3371d38e"
      },
      "source": [
        "#Desafio 082 - Criar uma lista. Criar uma lista que contem os numeros pares e outra que contem os impares. Mostre as tres listas no final\n",
        "num=[]\n",
        "p=[]\n",
        "i=[]\n",
        "while True:\n",
        "  a=int(input('Digite um número: '))\n",
        "  num.append(a)\n",
        "  if a%2 == 0:\n",
        "    p.append(a)\n",
        "  else:\n",
        "    i.append(a)\n",
        "  r=' '\n",
        "  while r not in 'SN':\n",
        "    r=str(input('Quer continuar (s/n)? ')).strip().upper()[0]\n",
        "  if r=='N':\n",
        "    print('Fim')\n",
        "    break\n",
        "print(f'A lista original: {num}\\n')\n",
        "print(f'A lista dos pares: {p}\\n')\n",
        "print(f'A lista dos ímpares: {i}\\n')"
      ],
      "execution_count": null,
      "outputs": [
        {
          "output_type": "stream",
          "name": "stdout",
          "text": [
            "Digite um número: 4\n",
            "Quer continuar (s/n)? s\n",
            "Digite um número: 2\n",
            "Quer continuar (s/n)? s\n",
            "Digite um número: 3\n",
            "Quer continuar (s/n)? s\n",
            "Digite um número: 1\n",
            "Quer continuar (s/n)? s\n",
            "Digite um número: 9\n",
            "Quer continuar (s/n)? s\n",
            "Digite um número: 15\n",
            "Quer continuar (s/n)? s\n",
            "Digite um número: 16\n",
            "Quer continuar (s/n)? n\n",
            "Fim\n",
            "A lista original: [4, 2, 3, 1, 9, 15, 16]\n",
            "\n",
            "A lista dos pares: [4, 2, 16]\n",
            "\n",
            "A lista dos ímpares: [3, 1, 9, 15]\n",
            "\n"
          ]
        }
      ]
    },
    {
      "cell_type": "code",
      "metadata": {
        "colab": {
          "base_uri": "https://localhost:8080/"
        },
        "id": "OOE4UXCSmmbA",
        "outputId": "9445ab83-e5b0-4d97-e345-2d3dc4bf1c3a"
      },
      "source": [
        "pessoas=[['Pedro', '25'], ['Maria', '19'], ['João', '32']]\n",
        "print(pessoas[0][0])\n",
        "print(pessoas[1][1])\n",
        "print(pessoas[1])"
      ],
      "execution_count": null,
      "outputs": [
        {
          "output_type": "stream",
          "name": "stdout",
          "text": [
            "Pedro\n",
            "19\n",
            "['Maria', '19']\n"
          ]
        }
      ]
    },
    {
      "cell_type": "code",
      "metadata": {
        "colab": {
          "base_uri": "https://localhost:8080/"
        },
        "id": "UBFt4lXhnlcp",
        "outputId": "43d2886a-04ab-4045-a8b3-a705ff5ba0d0"
      },
      "source": [
        "teste=list()\n",
        "teste.append('Gustavo')\n",
        "teste.append(40)\n",
        "galera=list()\n",
        "galera.append(teste[:])\n",
        "teste[0]='Maria'\n",
        "teste[1]=22\n",
        "galera.append(teste[:])\n",
        "print(galera)"
      ],
      "execution_count": null,
      "outputs": [
        {
          "output_type": "stream",
          "name": "stdout",
          "text": [
            "[['Gustavo', 40], ['Maria', 22]]\n"
          ]
        }
      ]
    },
    {
      "cell_type": "code",
      "metadata": {
        "colab": {
          "base_uri": "https://localhost:8080/"
        },
        "id": "LSZoC7AJqVET",
        "outputId": "7615f70d-d4a2-4423-e0a2-54e1f51a39c4"
      },
      "source": [
        "#Desafio 084 - Lista com nome e peso de pessoas. Mostrar quantas pessoas foram cadastradas.\n",
        "#Uma lista com a pessoa mais pesada. Uma com a pessoa mais leve\n",
        "temp=[]\n",
        "princ=[]\n",
        "mai=men=0\n",
        "while True:\n",
        "  temp.append(str(input('Nome: ')))\n",
        "  temp.append(float(input('Peso: ')))\n",
        "  if len(princ) == 0:\n",
        "    mai=men=temp[1]\n",
        "  else:\n",
        "    if temp[1] > mai:\n",
        "      mai = temp[1]\n",
        "    if temp[1] < men:\n",
        "      men = temp[1]\n",
        "  princ.append(temp[:])\n",
        "  temp.clear()\n",
        "  resp=str(input('Quer continuar? [S/N] '))\n",
        "  if resp in 'Nn':\n",
        "    break\n",
        "print('-='*30)\n",
        "print(f'Ao todo, você cadastrou {len(princ)} pessoas. ')\n",
        "print(f'O maior peso foi de {mai} kg. Peso de ', end='')\n",
        "for p in princ:\n",
        "  if p[1] == mai:\n",
        "    print(f'[{p[0]}] ', end='')\n",
        "print()\n",
        "\n",
        "print(f'O menor peso foi de {men} kg. Peso de ', end='')\n",
        "for p in princ:\n",
        "  if p[1] == men:\n",
        "    print(f'[{p[0]}] ', end='')\n",
        "print()\n",
        "  "
      ],
      "execution_count": null,
      "outputs": [
        {
          "output_type": "stream",
          "name": "stdout",
          "text": [
            "Nome: ana\n",
            "Peso: 56\n",
            "Quer continuar? [S/N] s\n",
            "Nome: joao\n",
            "Peso: 89\n",
            "Quer continuar? [S/N] s\n",
            "Nome: lalaa\n",
            "Peso: 98\n",
            "Quer continuar? [S/N] n\n",
            "-=-=-=-=-=-=-=-=-=-=-=-=-=-=-=-=-=-=-=-=-=-=-=-=-=-=-=-=-=-=\n",
            "Ao todo, você cadastrou 3 pessoas. \n",
            "O maior peso foi de 98.0 kg. Peso de [lalaa] \n",
            "O menor peso foi de 56.0 kg. Peso de [ana] \n"
          ]
        }
      ]
    },
    {
      "cell_type": "code",
      "metadata": {
        "colab": {
          "base_uri": "https://localhost:8080/"
        },
        "id": "CtU32LFNIdu9",
        "outputId": "df0d4d5f-88c6-42ae-cc5b-259dccbf4e5c"
      },
      "source": [
        "#Desafio 085 - Usuario digita 7 valores numa lista. Nessa lista, ha separacao dos pares e dos impares. \n",
        "#No final, mostre os valores pares e impares em ordem crescente\n",
        "num=[[],[]]\n",
        "\n",
        "for i in range(1,8):\n",
        "  a=int(input('Digite um valor: '))\n",
        "  if a%2 == 0:\n",
        "    num[1].append(a)\n",
        "    i+=1\n",
        "  else:\n",
        "    num[0].append(a)\n",
        "    i+=1\n",
        "print(f'Os valores ímpares foram: {num[0]} ')\n",
        "print(f'Os valores pares foram: {num[1]} ')"
      ],
      "execution_count": null,
      "outputs": [
        {
          "output_type": "stream",
          "name": "stdout",
          "text": [
            "Digite um valor: 5\n",
            "Digite um valor: 4\n",
            "Digite um valor: 3\n",
            "Digite um valor: 2\n",
            "Digite um valor: 1\n",
            "Digite um valor: 5\n",
            "Digite um valor: 6\n",
            "Os valores ímpares foram: [5, 3, 1, 5] \n",
            "Os valores pares foram: [4, 2, 6] \n"
          ]
        }
      ]
    },
    {
      "cell_type": "code",
      "metadata": {
        "colab": {
          "base_uri": "https://localhost:8080/"
        },
        "id": "GnL3qcQcPOrQ",
        "outputId": "71a44f5c-9f9f-4c8a-c0c3-98afe3dded24"
      },
      "source": [
        "#Desafio 086 - Matriz 3x3 preenchida casa por casa. Mostrar a matriz inteira com formatacao correta\n",
        "matriz=[[0,0,0],[0,0,0],[0,0,0]]\n",
        "for i in range(0,3):\n",
        "  for j in range(0,3):\n",
        "    matriz[i][j] = int(input(f'Digite um valor para {i}{j}: '))\n",
        "print('-='*30)\n",
        "for i in range(0,3):\n",
        "  for j in range(0,3):\n",
        "    print(f'[{matriz[i][j]:^5}]', end='')\n",
        "  print()"
      ],
      "execution_count": null,
      "outputs": [
        {
          "output_type": "stream",
          "name": "stdout",
          "text": [
            "Digite um valor para 00: 1\n",
            "Digite um valor para 01: 2\n",
            "Digite um valor para 02: 3\n",
            "Digite um valor para 10: 4\n",
            "Digite um valor para 11: 5\n",
            "Digite um valor para 12: 6\n",
            "Digite um valor para 20: 7\n",
            "Digite um valor para 21: 8\n",
            "Digite um valor para 22: 9\n",
            "-=-=-=-=-=-=-=-=-=-=-=-=-=-=-=-=-=-=-=-=-=-=-=-=-=-=-=-=-=-=\n",
            "[  1  ][  2  ][  3  ]\n",
            "[  4  ][  5  ][  6  ]\n",
            "[  7  ][  8  ][  9  ]\n"
          ]
        }
      ]
    },
    {
      "cell_type": "code",
      "metadata": {
        "colab": {
          "base_uri": "https://localhost:8080/"
        },
        "id": "yoMee23tVUHm",
        "outputId": "72d09652-a47b-4cb1-a634-ecf681ec3975"
      },
      "source": [
        "#Desafio 087 - A mesma matriz do desafio 086. A soma dos valores pares digitados, \n",
        "#a soma dos valores da terceira coluna, o maior valor da segunda linha.\n",
        "matriz=[[0,0,0],[0,0,0],[0,0,0]]\n",
        "sum=0\n",
        "col=0\n",
        "lin=0\n",
        "for i in range(0,3):\n",
        "  for j in range(0,3):\n",
        "    matriz[i][j] = int(input(f'Digite um valor para {i}{j}: '))\n",
        "    lin=matriz[i][1]\n",
        "    if matriz[i][j]%2 == 0:\n",
        "      sum=sum+matriz[i][j]\n",
        "    if j==2:\n",
        "      col=col+matriz[i][j]\n",
        "    if i==1:\n",
        "      if matriz[i][j] > lin:\n",
        "        lin=matriz[i][j]\n",
        "print('-='*30)\n",
        "for i in range(0,3):\n",
        "  for j in range(0,3):\n",
        "    print(f'[{matriz[i][j]:^5}]', end='')\n",
        "  print()\n",
        "print(f'A soma de todos os valores pares: {sum}\\n')\n",
        "print(f'A soma dos valores da terceira coluna: {col}\\n')\n",
        "print(f'O maior valor da segunda linha: {lin}\\n')"
      ],
      "execution_count": null,
      "outputs": [
        {
          "output_type": "stream",
          "name": "stdout",
          "text": [
            "Digite um valor para 00: 1\n",
            "Digite um valor para 01: 2\n",
            "Digite um valor para 02: 3\n",
            "Digite um valor para 10: 4\n",
            "Digite um valor para 11: 5\n",
            "Digite um valor para 12: 6\n",
            "Digite um valor para 20: 7\n",
            "Digite um valor para 21: 8\n",
            "Digite um valor para 22: 9\n",
            "-=-=-=-=-=-=-=-=-=-=-=-=-=-=-=-=-=-=-=-=-=-=-=-=-=-=-=-=-=-=\n",
            "[  1  ][  2  ][  3  ]\n",
            "[  4  ][  5  ][  6  ]\n",
            "[  7  ][  8  ][  9  ]\n",
            "A soma de todos os valores pares: 20\n",
            "\n",
            "A soma dos valores da terceira coluna: 18\n",
            "\n",
            "O maior valor da segunda linha: 8\n",
            "\n"
          ]
        }
      ]
    },
    {
      "cell_type": "code",
      "metadata": {
        "colab": {
          "base_uri": "https://localhost:8080/"
        },
        "id": "8LaVdTLIe_Ij",
        "outputId": "95959f28-c862-40e4-cf96-ada34a41d872"
      },
      "source": [
        "#Desafio 088 - Mega sena. Digitar quantos jogos serão feitos e o programa gera os numeros.\n",
        "from random import randint\n",
        "lista=[]\n",
        "jogo=[]\n",
        "a=int(input('Quantos jogos você quer? '))\n",
        "i=1\n",
        "while i<=a:\n",
        "  cont=0\n",
        "  while True:\n",
        "    b=randint(1,60)\n",
        "    if b not in lista:\n",
        "      lista.append(b)\n",
        "      cont+=1\n",
        "    if cont>6:\n",
        "      break\n",
        "  lista.sort()\n",
        "  jogo.append(lista[:])\n",
        "  lista.clear()\n",
        "  i+=1\n",
        "print(f'Os jogos sorteados foram: \\n')\n",
        "for e, f in enumerate(jogo):\n",
        "  print(f'jogo {e+1}: {f}')"
      ],
      "execution_count": null,
      "outputs": [
        {
          "output_type": "stream",
          "name": "stdout",
          "text": [
            "Quantos jogos você quer? 6\n",
            "Os jogos sorteados foram: \n",
            "\n",
            "jogo 1: [2, 10, 22, 25, 26, 30, 43]\n",
            "jogo 2: [1, 9, 17, 23, 35, 36, 53]\n",
            "jogo 3: [4, 18, 34, 44, 50, 52, 55]\n",
            "jogo 4: [21, 34, 35, 40, 45, 48, 56]\n",
            "jogo 5: [7, 10, 11, 13, 16, 29, 41]\n",
            "jogo 6: [24, 25, 27, 41, 47, 53, 59]\n"
          ]
        }
      ]
    },
    {
      "cell_type": "markdown",
      "metadata": {
        "id": "KX9Is-zqnud1"
      },
      "source": [
        "# **Dicionários**\n",
        "Identificado por '{}' ou 'dict()'"
      ]
    },
    {
      "cell_type": "code",
      "metadata": {
        "colab": {
          "base_uri": "https://localhost:8080/"
        },
        "id": "78nY_ETtp5mf",
        "outputId": "5e34fd7a-1967-48cd-c0ed-8a537acc65f1"
      },
      "source": [
        "dados={'nome':'Pedro', 'idade':25}\n",
        "print(dados['nome'])\n",
        "dados['sexo']='M'\n",
        "print(dados)"
      ],
      "execution_count": null,
      "outputs": [
        {
          "output_type": "stream",
          "name": "stdout",
          "text": [
            "Pedro\n",
            "{'nome': 'Pedro', 'idade': 25, 'sexo': 'M'}\n"
          ]
        }
      ]
    },
    {
      "cell_type": "code",
      "metadata": {
        "colab": {
          "base_uri": "https://localhost:8080/"
        },
        "id": "pEnqxwKEqa5L",
        "outputId": "59bcd4a7-5ea1-4a44-f596-d48c8ae6423c"
      },
      "source": [
        "dados={'nome':'Pedro', 'idade':25}\n",
        "del dados['idade']\n",
        "dados"
      ],
      "execution_count": null,
      "outputs": [
        {
          "output_type": "execute_result",
          "data": {
            "text/plain": [
              "{'nome': 'Pedro'}"
            ]
          },
          "metadata": {},
          "execution_count": 18
        }
      ]
    },
    {
      "cell_type": "code",
      "metadata": {
        "colab": {
          "base_uri": "https://localhost:8080/"
        },
        "id": "3vfXrmI4rIIu",
        "outputId": "10a7ff8d-8147-4cb2-d2c1-29123294e9e8"
      },
      "source": [
        "dados={'nome':'Pedro', 'idade':25}\n",
        "print(dados['nome'])\n",
        "dados['sexo']='M'\n",
        "print(dados.keys())\n",
        "print(dados.items())\n",
        "print(dados.values())"
      ],
      "execution_count": null,
      "outputs": [
        {
          "output_type": "stream",
          "name": "stdout",
          "text": [
            "Pedro\n",
            "dict_keys(['nome', 'idade', 'sexo'])\n",
            "dict_items([('nome', 'Pedro'), ('idade', 25), ('sexo', 'M')])\n",
            "dict_values(['Pedro', 25, 'M'])\n"
          ]
        }
      ]
    },
    {
      "cell_type": "code",
      "metadata": {
        "colab": {
          "base_uri": "https://localhost:8080/"
        },
        "id": "kiBK6ErprfgW",
        "outputId": "b900a330-37e7-4224-aaba-1356f9c409a3"
      },
      "source": [
        "filme={'titulo':'Star Wars', 'ano':1977, 'diretor':'George Lucas'}\n",
        "print(filme)\n",
        "for k, v in filme.items():\n",
        "  print(f'o {k} é {v}')"
      ],
      "execution_count": null,
      "outputs": [
        {
          "output_type": "stream",
          "name": "stdout",
          "text": [
            "{'titulo': 'Star Wars', 'ano': 1977, 'diretor': 'George Lucas'}\n",
            "o titulo é Star Wars\n",
            "o ano é 1977\n",
            "o diretor é George Lucas\n"
          ]
        }
      ]
    },
    {
      "cell_type": "code",
      "metadata": {
        "colab": {
          "base_uri": "https://localhost:8080/"
        },
        "id": "uPp0ZETovRNb",
        "outputId": "d90c2ee9-06ed-490e-fe72-2ad64c1abd60"
      },
      "source": [
        "estado=dict()\n",
        "brasil=list()\n",
        "for c in range(0,3):\n",
        "  estado['uf']=str(input('Unidade Federativa: '))\n",
        "  estado['sigla']=str(input('Sigla do estado: '))\n",
        "  brasil.append(estado.copy())\n",
        "for e in brasil:\n",
        "  for k, v in e.items():\n",
        "    print(f'O campo {k} tem valor {v}.')"
      ],
      "execution_count": null,
      "outputs": [
        {
          "output_type": "stream",
          "name": "stdout",
          "text": [
            "Unidade Federativa: são paulo\n",
            "Sigla do estado: sp\n",
            "Unidade Federativa: rio de janeiro\n",
            "Sigla do estado: rj\n",
            "Unidade Federativa: paraná\n",
            "Sigla do estado: pr\n",
            "O campo uf tem valor são paulo.\n",
            "O campo sigla tem valor sp.\n",
            "O campo uf tem valor rio de janeiro.\n",
            "O campo sigla tem valor rj.\n",
            "O campo uf tem valor paraná.\n",
            "O campo sigla tem valor pr.\n"
          ]
        }
      ]
    },
    {
      "cell_type": "code",
      "metadata": {
        "colab": {
          "base_uri": "https://localhost:8080/"
        },
        "id": "xlJktjLyxRZ0",
        "outputId": "97d184e5-9d0a-4b55-fad3-8170c597f93c"
      },
      "source": [
        "#Desafio 090 - Nome, media e situacao do aluno. Mostrar tudo\n",
        "aluno={}\n",
        "aluno['Nome']=str(input('Digite o nome: '))\n",
        "aluno['Media']=float(input('Digite a media: '))\n",
        "if aluno['Media']>= 7:\n",
        "  aluno['Situacao']='Aprovado'\n",
        "else:\n",
        "  aluno['Situacao']='Reprovado'\n",
        "print(aluno[])"
      ],
      "execution_count": null,
      "outputs": [
        {
          "output_type": "stream",
          "name": "stdout",
          "text": [
            "Digite o nome: Ana\n",
            "Digite a media: 8\n",
            "{'Nome': 'Ana', 'Media': 8.0, 'Situacao': 'Aprovado'}\n"
          ]
        }
      ]
    },
    {
      "cell_type": "code",
      "metadata": {
        "colab": {
          "base_uri": "https://localhost:8080/"
        },
        "id": "EcBr0eYtbV1R",
        "outputId": "e0a24d69-c6ce-49c7-fda0-bcd237176001"
      },
      "source": [
        "#Desafio 091 - 4 jogadores jogando um dado. Mostrar a ordem de ranking\n",
        "from random import randint\n",
        "#itemgetter para ordenar os valores do ranking\n",
        "from operator import itemgetter\n",
        "jogo={'jogador1':randint(1,6), 'jogador2':randint(1,6), \n",
        "      'jogador3': randint(1,6), 'jogador4':randint(1,6),\n",
        "      'jogador5':randint(1,6), 'jogador6': randint(1,6)}\n",
        "ranking=list()\n",
        "print('Valores sorteados')\n",
        "for k, v in jogo.items():\n",
        "  print(f'{k} tirou {v}')\n",
        "ranking = sorted(jogo.items(), key=itemgetter(1), reverse=True)\n",
        "print('-='*30)\n",
        "for i, v in enumerate(ranking):\n",
        "  print(f'{i+1}º lugar: {v[0]} com {v[1]}.')"
      ],
      "execution_count": null,
      "outputs": [
        {
          "output_type": "stream",
          "name": "stdout",
          "text": [
            "Valores sorteados\n",
            "jogador1 tirou 2\n",
            "jogador2 tirou 3\n",
            "jogador3 tirou 6\n",
            "jogador4 tirou 6\n",
            "jogador5 tirou 1\n",
            "jogador6 tirou 3\n",
            "-=-=-=-=-=-=-=-=-=-=-=-=-=-=-=-=-=-=-=-=-=-=-=-=-=-=-=-=-=-=\n",
            "1º lugar: jogador3 com 6.\n",
            "2º lugar: jogador4 com 6.\n",
            "3º lugar: jogador2 com 3.\n",
            "4º lugar: jogador6 com 3.\n",
            "5º lugar: jogador1 com 2.\n",
            "6º lugar: jogador5 com 1.\n"
          ]
        }
      ]
    },
    {
      "cell_type": "code",
      "metadata": {
        "colab": {
          "base_uri": "https://localhost:8080/"
        },
        "id": "rvnpFOGOgHGT",
        "outputId": "96a10898-44e6-428c-a44f-26449ea4a972"
      },
      "source": [
        "#Desafio 092 - Programa que leia nome, ano de nascimento, carteira de trabalho (se for diferente de zero, ler o ano de contratacao e salario). \n",
        "#Calcular a idade e com quantos anos ela vai se aposentar\n",
        "pessoa={}\n",
        "pessoa['nome']=str(input('Digite o nome: '))\n",
        "pessoa['idade']=2021-int(input('Ano de nascimento: '))\n",
        "pessoa['CTPS']=int(input('Número de CTPS: (0 para não)'))\n",
        "if pessoa['CTPS']!=0:\n",
        "  pessoa['contratacao']=int(input('Qual o ano de contratação? '))\n",
        "  pessoa['salario']=int(input('Qual é o salário? '))\n",
        "  pessoa['aposentadoria']=pessoa['contratacao']+35\n",
        "print(pessoa)"
      ],
      "execution_count": null,
      "outputs": [
        {
          "output_type": "stream",
          "name": "stdout",
          "text": [
            "Digite o nome: Ana\n",
            "Ano de nascimento: 1978\n",
            "Número de CTPS: (0 para não)546\n",
            "Qual o ano de contratação? 1998\n",
            "Qual é o salário? 1200\n",
            "{'nome': 'Ana', 'idade': 43, 'CTPS': 546, 'contratacao': 1998, 'salario': 1200, 'aposentadoria': 2033}\n"
          ]
        }
      ]
    },
    {
      "cell_type": "code",
      "metadata": {
        "colab": {
          "base_uri": "https://localhost:8080/"
        },
        "id": "Fqwvz3D3lF6K",
        "outputId": "b9d2d8b8-57ab-4bbf-d7df-95f97cf253f6"
      },
      "source": [
        "#Desafio 094 - Ler nome, sexo e idade de varias pessoas e salvar tudo numa lista. \n",
        "#Mostrara media de idade do grupo, uma lista com as mulheres e uma lista com todas as pessoas com idade acima da media\n",
        "pessoas={}\n",
        "galera=[]\n",
        "soma=media=0\n",
        "while True:\n",
        "  pessoas.clear()\n",
        "  pessoas['nome']=str(input('Digite o nome: '))\n",
        "  while True:\n",
        "    pessoas['sexo']=str(input('Digite o sexo (M/F): ')).strip().upper()[0]\n",
        "    if pessoas['sexo'] in 'MF':\n",
        "      break\n",
        "    print('Por favor digite apenas M ou F')\n",
        "  pessoas['idade']=int(input('Digite a idade: '))\n",
        "  soma+=pessoas['idade']\n",
        "  galera.append(pessoas.copy())\n",
        "  \n",
        "  while True:\n",
        "    r=str(input('Quer continuar? (S/N)')).strip().upper()[0]\n",
        "    if r in 'SN':\n",
        "      break\n",
        "    print('Digite apenas S ou N')\n",
        "  if r=='N':\n",
        "    break\n",
        "print('-='*30)\n",
        "print(f'Ao todo temos {len(galera)} cadastrados.')\n",
        "media=soma/len(galera)\n",
        "print(f'A média de idade é {media:5.2f} anos')\n",
        "print(f'As mulheres cadastradas foram ', end='')\n",
        "for p in galera:\n",
        "  if p['sexo'] in 'Ff':\n",
        "    print(f'{p[\"nome\"]} ', end='')\n",
        "print()\n",
        "print('Lista de pessoas que estão acima da média: ')\n",
        "for p in galera:\n",
        "  if p['idade']>media:\n",
        "    print('  ')\n",
        "    for k, v in p.items():\n",
        "      print(f'{k} = {v}; ', end='')\n",
        "    print()\n",
        "print('Encerrado')"
      ],
      "execution_count": null,
      "outputs": [
        {
          "output_type": "stream",
          "name": "stdout",
          "text": [
            "Digite o nome: ana\n",
            "Digite o sexo (M/F): f\n",
            "Digite a idade: 25\n",
            "Quer continuar? (S/N)joao\n",
            "Digite apenas S ou N\n",
            "Quer continuar? (S/N)s\n",
            "Digite o nome: joao\n",
            "Digite o sexo (M/F): m\n",
            "Digite a idade: 45\n",
            "Quer continuar? (S/N)s\n",
            "Digite o nome: bia\n",
            "Digite o sexo (M/F): f\n",
            "Digite a idade: 23\n",
            "Quer continuar? (S/N)s\n",
            "Digite o nome: aala\n",
            "Digite o sexo (M/F): f\n",
            "Digite a idade: 45\n",
            "Quer continuar? (S/N)n\n",
            "-=-=-=-=-=-=-=-=-=-=-=-=-=-=-=-=-=-=-=-=-=-=-=-=-=-=-=-=-=-=\n",
            "Ao todo temos 4 cadastrados.\n",
            "A média de idade é 34.50 anos\n",
            "As mulheres cadastradas foram ana bia aala \n",
            "Lista de pessoas que estão acima da média: \n",
            "  \n",
            "nome = joao; sexo = M; idade = 45; \n",
            "  \n",
            "nome = aala; sexo = F; idade = 45; \n",
            "Encerrado\n"
          ]
        }
      ]
    },
    {
      "cell_type": "markdown",
      "metadata": {
        "id": "2jdwIwurwufO"
      },
      "source": [
        "# **Funções**\n",
        "Uma rotina. def xxx():"
      ]
    },
    {
      "cell_type": "code",
      "metadata": {
        "colab": {
          "base_uri": "https://localhost:8080/"
        },
        "id": "yx4wMaRC3a6I",
        "outputId": "73783404-20ec-4607-8e3e-4b091dd57120"
      },
      "source": [
        "#Desempacotamento\n",
        "def contador(*num):\n",
        "  print(num)\n",
        "\n",
        "\n",
        "contador(2,3,4)\n",
        "contador(8,65,3,5,78,9)"
      ],
      "execution_count": null,
      "outputs": [
        {
          "output_type": "stream",
          "name": "stdout",
          "text": [
            "(2, 3, 4)\n",
            "(8, 65, 3, 5, 78, 9)\n"
          ]
        }
      ]
    },
    {
      "cell_type": "code",
      "metadata": {
        "colab": {
          "base_uri": "https://localhost:8080/"
        },
        "id": "TYL2oWNQ7lQl",
        "outputId": "cc996a46-5999-4c0a-a371-d6d605457c53"
      },
      "source": [
        "#Desafio 096 - Ler largura e comprimento, calcular a area\n",
        "def calculo(a, b):\n",
        "  area=a*b\n",
        "  print(f'A área do terreno {a}x{b} é {area} metros quadradados.')\n",
        "\n",
        "\n",
        "l=int(input('Digite a largura: '))\n",
        "c=int(input('Digite o comprimento: '))\n",
        "calculo(l,c)"
      ],
      "execution_count": null,
      "outputs": [
        {
          "output_type": "stream",
          "name": "stdout",
          "text": [
            "Digite a largura: 5\n",
            "Digite o comprimento: 2\n",
            "A área do terreno 5x2 é 10 metros quadradados.\n"
          ]
        }
      ]
    },
    {
      "cell_type": "code",
      "metadata": {
        "colab": {
          "base_uri": "https://localhost:8080/"
        },
        "id": "pnCO_sn36Lyj",
        "outputId": "374c1ea9-6a6e-41d7-ed6c-892f51be275e"
      },
      "source": [
        "#Desafio 097 - Um print especial\n",
        "def escreva(msg):\n",
        "  tam= len(msg) +4\n",
        "  print('~' * tam)\n",
        "  print(f'  {msg}  ')\n",
        "  print('~' * tam)\n",
        "\n",
        "\n",
        "escreva('Gustavo guanabara')\n",
        "escreva('Curso em Vídeo')"
      ],
      "execution_count": null,
      "outputs": [
        {
          "output_type": "stream",
          "name": "stdout",
          "text": [
            "~~~~~~~~~~~~~~~~~~~~~\n",
            "  Gustavo guanabara  \n",
            "~~~~~~~~~~~~~~~~~~~~~\n",
            "~~~~~~~~~~~~~~~~~~\n",
            "  Curso em Vídeo  \n",
            "~~~~~~~~~~~~~~~~~~\n"
          ]
        }
      ]
    },
    {
      "cell_type": "code",
      "metadata": {
        "colab": {
          "base_uri": "https://localhost:8080/"
        },
        "id": "BsCYYCZM8GlN",
        "outputId": "ad58f1e7-b955-4edd-b916-0a97a4ed6872"
      },
      "source": [
        "#Desafio 098 - Contador\n",
        "from time import sleep\n",
        "def contador(i, f, p):\n",
        "  print('-='*30)\n",
        "  print(f'Contagem de {i} até {f} ao passo de {p}')\n",
        "\n",
        "  if p<0:\n",
        "    p*=-1\n",
        "  if p==0:\n",
        "    p=1\n",
        "  if i<f:\n",
        "    cont=i\n",
        "    while cont <= f:\n",
        "      print(f'{cont} ', end='', flush=True)\n",
        "      sleep(0.5)\n",
        "      cont +=p\n",
        "    print('FIM')\n",
        "  else:\n",
        "    cont=i\n",
        "    while cont>= f:\n",
        "      print(f'{cont} ', end='', flush=True)\n",
        "      sleep(0.5)\n",
        "      cont -=p\n",
        "    print('FIM')\n",
        "\n",
        "\n",
        "contador(1,10,1)\n",
        "contador(10,0,2)\n",
        "print('-='*30)\n",
        "ini=int(input('Digite o início:  '))\n",
        "fim=int(input('Digite o final:  '))\n",
        "pas=int(input('Digite o passo:  '))\n",
        "contador(ini, fim, pas)"
      ],
      "execution_count": null,
      "outputs": [
        {
          "output_type": "stream",
          "name": "stdout",
          "text": [
            "-=-=-=-=-=-=-=-=-=-=-=-=-=-=-=-=-=-=-=-=-=-=-=-=-=-=-=-=-=-=\n",
            "Contagem de 1 até 10 ao passo de 1\n",
            "1 2 3 4 5 6 7 8 9 10 FIM\n",
            "-=-=-=-=-=-=-=-=-=-=-=-=-=-=-=-=-=-=-=-=-=-=-=-=-=-=-=-=-=-=\n",
            "Contagem de 10 até 0 ao passo de 2\n",
            "10 8 6 4 2 0 FIM\n",
            "-=-=-=-=-=-=-=-=-=-=-=-=-=-=-=-=-=-=-=-=-=-=-=-=-=-=-=-=-=-=\n",
            "Digite o início:  18\n",
            "Digite o final:  1\n",
            "Digite o passo:  -2\n",
            "-=-=-=-=-=-=-=-=-=-=-=-=-=-=-=-=-=-=-=-=-=-=-=-=-=-=-=-=-=-=\n",
            "Contagem de 18 até 1 ao passo de -2\n",
            "18 16 14 12 10 8 6 4 2 FIM\n"
          ]
        }
      ]
    },
    {
      "cell_type": "code",
      "metadata": {
        "colab": {
          "base_uri": "https://localhost:8080/"
        },
        "id": "oecufLavOzhG",
        "outputId": "2938c93a-09c1-40df-b208-ddebcf3d27ff"
      },
      "source": [
        "#Desafio 099 - Chamar o maior numero\n",
        "from time import sleep\n",
        "def maior(*num):\n",
        "  cont=maior=0\n",
        "  print('-='*30)\n",
        "  print('Analisando os valores passados...')\n",
        "  for val in num:\n",
        "    print(f'{val} ', end='', flush=True)\n",
        "    sleep(0.1)\n",
        "    if cont ==0:\n",
        "      maior=val\n",
        "    else:\n",
        "      if val>maior:\n",
        "        maior=val\n",
        "    cont += 1\n",
        "  print(f'\\nO maior valor foi {maior} ')\n",
        "\n",
        "\n",
        "maior(3,9,88,5,1,4,3,5)"
      ],
      "execution_count": null,
      "outputs": [
        {
          "output_type": "stream",
          "name": "stdout",
          "text": [
            "-=-=-=-=-=-=-=-=-=-=-=-=-=-=-=-=-=-=-=-=-=-=-=-=-=-=-=-=-=-=\n",
            "Analisando os valores passados...\n",
            "3 9 88 5 1 4 3 5 \n",
            "O maior valor foi 88 \n"
          ]
        }
      ]
    },
    {
      "cell_type": "code",
      "metadata": {
        "colab": {
          "base_uri": "https://localhost:8080/"
        },
        "id": "GYgHvXqCTQQH",
        "outputId": "f68433c1-7cb4-4cfd-cf93-405c5c474741"
      },
      "source": [
        "#Desafio 100 - Sortear e somar os pares\n",
        "from random import randint\n",
        "num=[]\n",
        "def sorteia(lista):\n",
        "  for i in range(0,5):\n",
        "    a=randint(1,10)\n",
        "    lista.append(a)\n",
        "  print(lista)\n",
        "\n",
        "\n",
        "def somapar(lista):\n",
        "  i=0\n",
        "  soma=0\n",
        "  while i<len(lista):\n",
        "    if lista[i]%2 ==0:\n",
        "      soma=soma+lista[i]\n",
        "    i+=1\n",
        "  print(f'\\nA soma dos valores pares resulta em: {soma}')\n",
        "\n",
        "\n",
        "sorteia(num)\n",
        "somapar(num)"
      ],
      "execution_count": null,
      "outputs": [
        {
          "output_type": "stream",
          "name": "stdout",
          "text": [
            "[5, 5, 6, 6, 10]\n",
            "\n",
            "A soma dos valores pares resulta em: 22\n"
          ]
        }
      ]
    },
    {
      "cell_type": "code",
      "metadata": {
        "colab": {
          "base_uri": "https://localhost:8080/"
        },
        "id": "4ucW4uN6aMih",
        "outputId": "15203f9c-19fe-4e02-89d6-62753606583a"
      },
      "source": [
        "#Descritivo da funcao\n",
        "help(print)"
      ],
      "execution_count": null,
      "outputs": [
        {
          "output_type": "stream",
          "name": "stdout",
          "text": [
            "Help on built-in function print in module builtins:\n",
            "\n",
            "print(...)\n",
            "    print(value, ..., sep=' ', end='\\n', file=sys.stdout, flush=False)\n",
            "    \n",
            "    Prints the values to a stream, or to sys.stdout by default.\n",
            "    Optional keyword arguments:\n",
            "    file:  a file-like object (stream); defaults to the current sys.stdout.\n",
            "    sep:   string inserted between values, default a space.\n",
            "    end:   string appended after the last value, default a newline.\n",
            "    flush: whether to forcibly flush the stream.\n",
            "\n"
          ]
        }
      ]
    },
    {
      "cell_type": "code",
      "metadata": {
        "colab": {
          "base_uri": "https://localhost:8080/"
        },
        "id": "VKjqINzOak9s",
        "outputId": "4a3a9b49-c5e6-44a3-f147-167c16206f25"
      },
      "source": [
        "#Outro descritivo de funcao\n",
        "print(input.__doc__)"
      ],
      "execution_count": null,
      "outputs": [
        {
          "output_type": "stream",
          "name": "stdout",
          "text": [
            "Forward raw_input to frontends\n",
            "\n",
            "        Raises\n",
            "        ------\n",
            "        StdinNotImplentedError if active frontend doesn't support stdin.\n",
            "        \n"
          ]
        }
      ]
    },
    {
      "cell_type": "code",
      "metadata": {
        "colab": {
          "base_uri": "https://localhost:8080/"
        },
        "id": "94mmS75XdLxF",
        "outputId": "54ae9d56-44c1-4ddd-9976-030deef67c83"
      },
      "source": [
        "def somar(a=0, b=0, c=0):\n",
        "  s=a+b+c\n",
        "  return s\n",
        "\n",
        "r1=somar(1,2,3)\n",
        "r2=somar(1)\n",
        "r3=somar(20,1)\n",
        "print(f'Os resultados foram: {r1}, {r2}, {r3}')"
      ],
      "execution_count": null,
      "outputs": [
        {
          "output_type": "stream",
          "name": "stdout",
          "text": [
            "Os resultados foram: 6, 1, 21\n"
          ]
        }
      ]
    },
    {
      "cell_type": "code",
      "metadata": {
        "id": "vE8J4hQsfdOp"
      },
      "source": [
        "#declarar uma variavel global dentro de uma funcao \n",
        "#global a"
      ],
      "execution_count": null,
      "outputs": []
    },
    {
      "cell_type": "code",
      "metadata": {
        "id": "c_JFGaT_gS2E"
      },
      "source": [
        "def somar(a=0, b=0, c=0):\n",
        "  s=a+b+c\n",
        "  print(f'A soma vale {s} ')\n",
        "\n",
        "somar(1,2,3)\n",
        "somar(1)"
      ],
      "execution_count": null,
      "outputs": []
    },
    {
      "cell_type": "code",
      "metadata": {
        "colab": {
          "base_uri": "https://localhost:8080/"
        },
        "id": "S6D1Vp_fjc_p",
        "outputId": "007ae772-e482-4378-813d-e2f3232c3d6a"
      },
      "source": [
        "def fatorial(num=1):\n",
        "  f=1\n",
        "  for c in range(num, 0, -1):\n",
        "    f*=c\n",
        "  return f\n",
        "\n",
        "f1=fatorial(5)\n",
        "f2=fatorial(4)\n",
        "f3=fatorial()\n",
        "print(f'{f1}, {f2}, {f3}')"
      ],
      "execution_count": null,
      "outputs": [
        {
          "output_type": "stream",
          "name": "stdout",
          "text": [
            "120, 24, 1\n"
          ]
        }
      ]
    },
    {
      "cell_type": "code",
      "metadata": {
        "colab": {
          "base_uri": "https://localhost:8080/",
          "height": 52
        },
        "id": "0FVSVbYIk5bq",
        "outputId": "cd71e7dd-7fa7-4e57-cafb-9846b7274e6f"
      },
      "source": [
        "#Desafio 101 - Votacao negado, opcional ou obrigatorio\n",
        "def voto(idade):\n",
        "  if idade>16:\n",
        "    if idade>17 and idade<=70:\n",
        "      t='Voto obrigatório'\n",
        "      return t\n",
        "    else:\n",
        "      t='Voto opcional'\n",
        "      return t\n",
        "  else:\n",
        "    t='Voto negado'\n",
        "    return t\n",
        "\n",
        "i=int(input('Digite a idade:  '))\n",
        "voto(i)"
      ],
      "execution_count": null,
      "outputs": [
        {
          "name": "stdout",
          "output_type": "stream",
          "text": [
            "Digite a idade:  72\n"
          ]
        },
        {
          "output_type": "execute_result",
          "data": {
            "application/vnd.google.colaboratory.intrinsic+json": {
              "type": "string"
            },
            "text/plain": [
              "'Voto opcional'"
            ]
          },
          "metadata": {},
          "execution_count": 65
        }
      ]
    },
    {
      "cell_type": "code",
      "metadata": {
        "colab": {
          "base_uri": "https://localhost:8080/"
        },
        "id": "Z4ORS7Puo4t1",
        "outputId": "8c537054-5b98-488d-d5ec-6d4071e4f5a9"
      },
      "source": [
        "#Desafio 102 - Calculo de fatorial e paramentro show (mostrar o calculo)\n",
        "def fatorial(num, show=False):\n",
        "  \"\"\"\n",
        "  Calcula o fatorial de um número. Se show for verdadeiro, mostrar o calculo\n",
        "  \"\"\"\n",
        "  f=1\n",
        "  for c in range(num, 0, -1):\n",
        "    f*=c\n",
        "    if show:\n",
        "      print(c, end='')\n",
        "      if c>1:\n",
        "        print(' X ', end='')\n",
        "      else:\n",
        "        print(' = ', end='')\n",
        "  return f\n",
        "\n",
        "print(fatorial(5, show=True))"
      ],
      "execution_count": null,
      "outputs": [
        {
          "output_type": "stream",
          "name": "stdout",
          "text": [
            "5 X 4 X 3 X 2 X 1 = 120\n"
          ]
        }
      ]
    },
    {
      "cell_type": "code",
      "metadata": {
        "colab": {
          "base_uri": "https://localhost:8080/"
        },
        "id": "ccXAMZ7BRdcW",
        "outputId": "96a801cf-fd90-44c6-ed1e-4c2f577ada07"
      },
      "source": [
        "#Desafio 103 - Jogador (nome e gols)\n",
        "def ficha(nome='<desconhecido>', gol=0):\n",
        "  print(f'O jogador {nome} fez {gol} gol(s) no campeonato!')\n",
        "\n",
        "n=str(input('Digite o nome do jogador: '))\n",
        "g=str(input('Digite o número de gols: '))\n",
        "if g.isnumeric():\n",
        "  g=int(g)\n",
        "else:\n",
        "  g=0\n",
        "if n.strip()=='':\n",
        "  ficha(gol=g)\n",
        "else:\n",
        "  ficha(n,g)"
      ],
      "execution_count": null,
      "outputs": [
        {
          "output_type": "stream",
          "name": "stdout",
          "text": [
            "Digite o nome do jogador: ronaldo\n",
            "Digite o número de gols: 3\n",
            "O jogador ronaldo fez 3 gol(s) no campeonato!\n"
          ]
        }
      ]
    },
    {
      "cell_type": "code",
      "metadata": {
        "colab": {
          "base_uri": "https://localhost:8080/"
        },
        "id": "9fZNFEfVa2Pm",
        "outputId": "47f5aa70-36d3-4cbf-dd6b-03c078012898"
      },
      "source": [
        "#Desafio 104 - criar uma funcao leiaint() que aceita apenas numeros inteiros\n",
        "def leiaInt(msg):\n",
        "  \"\"\"\n",
        "  Similar a funcao 'input'\n",
        "  \"\"\"\n",
        "  ok = False\n",
        "  valor = 0\n",
        "  while True:\n",
        "    n=str(input(msg))\n",
        "    if n.isnumeric():\n",
        "      valor = int(n)\n",
        "      ok = True\n",
        "    else:\n",
        "      print('Digite um número inteiro! ')\n",
        "    if ok:\n",
        "      break\n",
        "  return valor\n",
        "\n",
        "n=leiaInt('Digite um número: ')\n",
        "print(f'Você digitou {n}')"
      ],
      "execution_count": null,
      "outputs": [
        {
          "output_type": "stream",
          "name": "stdout",
          "text": [
            "Digite um número: 1\n",
            "Você digitou 1\n"
          ]
        }
      ]
    },
    {
      "cell_type": "code",
      "metadata": {
        "colab": {
          "base_uri": "https://localhost:8080/"
        },
        "id": "QRUn8rCBlCuR",
        "outputId": "28a58b6b-7fb0-4edb-c646-f10d2bf8d7a1"
      },
      "source": [
        "#Desafio 105 - Dicionario de notas\n",
        "def notas(*n, sit=False):\n",
        "  \"\"\"\n",
        "  sit para mostrar a situacao\n",
        "  \"\"\"\n",
        "  r=dict()\n",
        "  r['total']=len(n)\n",
        "  r['maior']=max(n)\n",
        "  r['menor']=min(n)\n",
        "  r['media']=sum(n)/len(n)\n",
        "  if sit:\n",
        "    if r['media']>=7:\n",
        "      r['situacao']='Boa'\n",
        "    elif r['media']>=5:\n",
        "      r['situacao']='Razoavel'\n",
        "    else:\n",
        "      r['situacao']='Ruim'\n",
        "  return r\n",
        "\n",
        "\n",
        "resp=notas(5.5,9.5,10,6.5, sit=True)\n",
        "print(resp)\n",
        "#help(notas)"
      ],
      "execution_count": null,
      "outputs": [
        {
          "output_type": "stream",
          "name": "stdout",
          "text": [
            "{'total': 4, 'maior': 10, 'menor': 5.5, 'media': 7.875, 'situacao': 'Boa'}\n"
          ]
        }
      ]
    }
  ]
}