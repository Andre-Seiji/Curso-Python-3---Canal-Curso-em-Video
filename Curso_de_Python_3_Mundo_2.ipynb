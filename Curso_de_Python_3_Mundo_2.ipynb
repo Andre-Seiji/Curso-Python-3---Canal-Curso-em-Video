{
  "nbformat": 4,
  "nbformat_minor": 0,
  "metadata": {
    "colab": {
      "name": "Curso de Python 3 - Mundo 2.ipynb",
      "provenance": [],
      "collapsed_sections": []
    },
    "kernelspec": {
      "name": "python3",
      "display_name": "Python 3"
    },
    "language_info": {
      "name": "python"
    }
  },
  "cells": [
    {
      "cell_type": "markdown",
      "metadata": {
        "id": "Pn0Ub9k5M0Sw"
      },
      "source": [
        "# **Curso Python - Curso em Vídeo - Mundo 2**"
      ]
    },
    {
      "cell_type": "markdown",
      "metadata": {
        "id": "WQ-2h7SOJ609"
      },
      "source": [
        "# **Condições Aninhadas**"
      ]
    },
    {
      "cell_type": "code",
      "metadata": {
        "colab": {
          "base_uri": "https://localhost:8080/"
        },
        "id": "BjsmnqLAJ-Uf",
        "outputId": "55ff0e10-af34-429e-db13-e4fbd3b6912a"
      },
      "source": [
        "nome=str(input('Qual é o seu nome? '))\n",
        "if nome == 'Gustavo':\n",
        "  print('Que nome bonito')\n",
        "elif nome=='Pedro' or nome=='Maria' or nome=='Paulo':\n",
        "  print('Seu nome é bem popular no Brasil')\n",
        "elif nome in 'Ana Cláudia Jéssica Juliana':\n",
        "  print('Belo nome feminino')\n",
        "else:\n",
        "  print('Seu nome é bem normal')\n",
        "print('Tenha um bom dia {}' .format(nome))"
      ],
      "execution_count": null,
      "outputs": [
        {
          "output_type": "stream",
          "name": "stdout",
          "text": [
            "Qual é o seu nome? Ana\n",
            "Belo nome feminino\n",
            "Tenha um bom dia Ana\n"
          ]
        }
      ]
    },
    {
      "cell_type": "code",
      "metadata": {
        "colab": {
          "base_uri": "https://localhost:8080/"
        },
        "id": "fEmwNLBnNspE",
        "outputId": "a6adf1f8-f89b-4149-dee9-2a45b87d6fd5"
      },
      "source": [
        "#Desafio 045 - Jokenpo\n",
        "from random import randint\n",
        "itens=('Pedra', 'Papel', 'Tesoura')\n",
        "computador=randint(0,2)\n",
        "print('''Suas opções:\n",
        "      [0] Pedra\n",
        "      [1] Papel\n",
        "      [2] Tesoura''')\n",
        "jogador=int(input('Qual é sua jogada? '))\n",
        "print('-='*11)\n",
        "print('Computador jogou {}'.format(itens[computador]))\n",
        "print('Jogador escolheu {}'.format(itens[jogador]))\n",
        "print('-='*11)\n",
        "if computador ==0:\n",
        "  if jogador ==0:\n",
        "    print('Empate')\n",
        "  elif jogador ==1:\n",
        "    print('Jogador ganhou')\n",
        "  elif jogador ==2:\n",
        "    print('Jogador perdeu')\n",
        "  else:\n",
        "    print('jogada inválida')\n",
        "elif computador==1:\n",
        "  if jogador==0:\n",
        "    print('Perdeu')\n",
        "  elif jogador==1:\n",
        "    print('Empate')\n",
        "  elif jogador==2:\n",
        "    print('Ganhou')\n",
        "  else:\n",
        "    print('jogada inválida')\n",
        "else:\n",
        "  if jogador==0:\n",
        "    print('Ganhou')\n",
        "  elif jogador==1:\n",
        "    print('Perdeu')\n",
        "  elif jogador==2:\n",
        "    print('empate')\n",
        "  else:\n",
        "    print('jogada inválida')"
      ],
      "execution_count": null,
      "outputs": [
        {
          "output_type": "stream",
          "name": "stdout",
          "text": [
            "Suas opções:\n",
            "      [0] Pedra\n",
            "      [1] Papel\n",
            "      [2] Tesoura\n",
            "Qual é sua jogada? 2\n",
            "-=-=-=-=-=-=-=-=-=-=-=\n",
            "Computador jogou Papel\n",
            "Jogador escolheu Tesoura\n",
            "-=-=-=-=-=-=-=-=-=-=-=\n",
            "Ganhou\n"
          ]
        }
      ]
    },
    {
      "cell_type": "markdown",
      "metadata": {
        "id": "izoUVN6U4v8Q"
      },
      "source": [
        "# **Estrutura de repetição for**"
      ]
    },
    {
      "cell_type": "code",
      "metadata": {
        "colab": {
          "base_uri": "https://localhost:8080/"
        },
        "id": "0x4YXApsTmYA",
        "outputId": "c21d99f0-ee1b-4faf-d9e5-269a84165d2b"
      },
      "source": [
        "i=int(input('Digite o início: '))\n",
        "f=int(input('Digite o fim: '))\n",
        "p=int(input('Digite o passo: '))\n",
        "\n",
        "for a in range(i, f+1, p):\n",
        "  print(a)"
      ],
      "execution_count": null,
      "outputs": [
        {
          "output_type": "stream",
          "name": "stdout",
          "text": [
            "Digite o início: 1\n",
            "Digite o fim: 10\n",
            "Digite o passo: 1\n",
            "1\n",
            "2\n",
            "3\n",
            "4\n",
            "5\n",
            "6\n",
            "7\n",
            "8\n",
            "9\n",
            "10\n"
          ]
        }
      ]
    },
    {
      "cell_type": "code",
      "metadata": {
        "colab": {
          "base_uri": "https://localhost:8080/"
        },
        "id": "RCXVwCJNVcOi",
        "outputId": "ff291fde-5d85-43a0-e302-21ce38d94566"
      },
      "source": [
        "#Desafio 046 - Contagem regressiva\n",
        "import time\n",
        "for t in range(10,-1,-1):\n",
        "  print('{}!'.format(t))\n",
        "  time.sleep(1)"
      ],
      "execution_count": null,
      "outputs": [
        {
          "output_type": "stream",
          "name": "stdout",
          "text": [
            "10!\n",
            "9!\n",
            "8!\n",
            "7!\n",
            "6!\n",
            "5!\n",
            "4!\n",
            "3!\n",
            "2!\n",
            "1!\n",
            "0!\n"
          ]
        }
      ]
    },
    {
      "cell_type": "code",
      "metadata": {
        "colab": {
          "base_uri": "https://localhost:8080/"
        },
        "id": "ccXhFZfVX703",
        "outputId": "d2370b6b-c07c-4587-903e-f9eeed588a9c"
      },
      "source": [
        "#Desafioi 047 - Todos os numeros pares entre 1 e 50\n",
        "print('Todos os números pares entre 1 e 50:\\n')\n",
        "for n in range(1,51):\n",
        "  if n%2==0:\n",
        "    print(n)\n",
        "  else:\n",
        "    continue"
      ],
      "execution_count": null,
      "outputs": [
        {
          "output_type": "stream",
          "name": "stdout",
          "text": [
            "Todos os números pares entre 1 e 50:\n",
            "\n",
            "2\n",
            "4\n",
            "6\n",
            "8\n",
            "10\n",
            "12\n",
            "14\n",
            "16\n",
            "18\n",
            "20\n",
            "22\n",
            "24\n",
            "26\n",
            "28\n",
            "30\n",
            "32\n",
            "34\n",
            "36\n",
            "38\n",
            "40\n",
            "42\n",
            "44\n",
            "46\n",
            "48\n",
            "50\n"
          ]
        }
      ]
    },
    {
      "cell_type": "code",
      "metadata": {
        "colab": {
          "base_uri": "https://localhost:8080/"
        },
        "id": "X2rqcp69aBmZ",
        "outputId": "79d2e574-c8eb-491d-accd-e79a3a96b71b"
      },
      "source": [
        "#Desafio 048 - Soma de todos os numeros impares e multiplos de 3 entre 1 e 500\n",
        "s=0\n",
        "c=0\n",
        "for i in range(1,501):\n",
        "  if i%2 != 0:\n",
        "    if i%3 == 0:\n",
        "      s=s+i\n",
        "      c=c+1\n",
        "print('A soma é {}.\\n Já a contagem é {}'.format(s, c))"
      ],
      "execution_count": null,
      "outputs": [
        {
          "output_type": "stream",
          "name": "stdout",
          "text": [
            "A soma é 20667.\n",
            "Já a contagem é 83\n"
          ]
        }
      ]
    },
    {
      "cell_type": "code",
      "metadata": {
        "colab": {
          "base_uri": "https://localhost:8080/"
        },
        "id": "8RlTWwJIcrTi",
        "outputId": "7269a234-4c2f-4f62-88c5-eeb94c3a8784"
      },
      "source": [
        "#Desafio 049 - Faca um programa que leia um numero inteiro qualquer e mostre na tela sua tabuada\n",
        "a=(int(input('Digite um número:')))\n",
        "\n",
        "for n in range(1,11):\n",
        "  #Tem que separar a primeira parte do f'. Caso contrario, o python vincula os numeros\n",
        "  #print('{}X{}='f'{a*n}'.format(a,n))\n",
        "  print('{}X{:<5}'f'{a*n}'.format(a,n))"
      ],
      "execution_count": null,
      "outputs": [
        {
          "output_type": "stream",
          "name": "stdout",
          "text": [
            "Digite um número:2\n",
            "2X1    2\n",
            "2X2    4\n",
            "2X3    6\n",
            "2X4    8\n",
            "2X5    10\n",
            "2X6    12\n",
            "2X7    14\n",
            "2X8    16\n",
            "2X9    18\n",
            "2X10   20\n"
          ]
        }
      ]
    },
    {
      "cell_type": "code",
      "metadata": {
        "colab": {
          "base_uri": "https://localhost:8080/"
        },
        "id": "RXFK0X0odBOV",
        "outputId": "b213bbd7-3f06-4d7d-a425-1b9d3fce30ff"
      },
      "source": [
        "#Desafio 050 - Leia 6 numeros inteiros e somar apenas os pares\n",
        "s=0\n",
        "for p in range(0,6):\n",
        "  p=int(input('Digite um número: '))\n",
        "  if p%2 == 0:\n",
        "    s=s+p\n",
        "print('A soma dos números pares foi: {}'.format(s))"
      ],
      "execution_count": null,
      "outputs": [
        {
          "output_type": "stream",
          "name": "stdout",
          "text": [
            "Digite um número: 1\n",
            "Digite um número: 2\n",
            "Digite um número: 3\n",
            "Digite um número: 4\n",
            "Digite um número: 5\n",
            "Digite um número: 6\n",
            "A soma dos números pares foi: 12\n"
          ]
        }
      ]
    },
    {
      "cell_type": "code",
      "metadata": {
        "colab": {
          "base_uri": "https://localhost:8080/"
        },
        "id": "UqLr-9JsecuJ",
        "outputId": "60a665ee-7aff-4913-bded-e78e45cb1208"
      },
      "source": [
        "#Desafio 051 - Ler o primeiro termo e a razao de uma PA. Plotar os primeiros 10 elementos\n",
        "p=int(input('Qual é o primeiro termo?\\n'))\n",
        "r=int(input('Qual é a razão?\\n'))\n",
        "print('\\n Sequência:')\n",
        "for i in range(0, 10):\n",
        "  n=p+r*i\n",
        "  print(n)"
      ],
      "execution_count": null,
      "outputs": [
        {
          "output_type": "stream",
          "name": "stdout",
          "text": [
            "Qual é o primeiro termo?\n",
            "1\n",
            "Qual é a razão?\n",
            "1\n",
            "\n",
            " Sequência:\n",
            "1\n",
            "2\n",
            "3\n",
            "4\n",
            "5\n",
            "6\n",
            "7\n",
            "8\n",
            "9\n",
            "10\n"
          ]
        }
      ]
    },
    {
      "cell_type": "code",
      "metadata": {
        "colab": {
          "base_uri": "https://localhost:8080/"
        },
        "id": "f9iOe136k_Vp",
        "outputId": "9051812f-8250-4839-905c-c448f6e81f89"
      },
      "source": [
        "#Desafio 052 - Ler um numero e retornar se e numero primo\n",
        "p=int(input('Digite um número: \\n'))\n",
        "#Numero primo e divisivel por '1' ou ele proprio\n",
        "c=0\n",
        "for i in range(1, p+1):\n",
        "  if p%i == 0:\n",
        "    c=c+1\n",
        "\n",
        "if c==2:\n",
        "  print('O número é primo')\n",
        "else:\n",
        "  print('Não é primo')"
      ],
      "execution_count": null,
      "outputs": [
        {
          "output_type": "stream",
          "name": "stdout",
          "text": [
            "Digite um número: \n",
            "4\n",
            "Não é primo\n"
          ]
        }
      ]
    },
    {
      "cell_type": "code",
      "metadata": {
        "colab": {
          "base_uri": "https://localhost:8080/"
        },
        "id": "L83OvOBKUTNb",
        "outputId": "be0776d7-2bca-474c-81db-c4767449b70a"
      },
      "source": [
        "#Desafio 053 - Palindromo\n",
        "#Strip para elimar os espaços antes e depois\n",
        "#Upper para tudo maiusculo\n",
        "frase=str(input('Digite uma frase: ')).strip().upper()\n",
        "palavras=frase.split()\n",
        "junto=''.join(palavras)\n",
        "inverso=''\n",
        "for letra in range(len(junto)-1,-1,-1):\n",
        "  inverso += junto[letra]\n",
        "if inverso == junto:\n",
        "  print('Temos um palíndromo')\n",
        "else:\n",
        "  print('Não é palíndromo')\n",
        "print(junto, inverso)"
      ],
      "execution_count": null,
      "outputs": [
        {
          "output_type": "stream",
          "name": "stdout",
          "text": [
            "Digite uma frase: abba\n",
            "Temos um palíndromo\n",
            "ABBA ABBA\n"
          ]
        }
      ]
    },
    {
      "cell_type": "code",
      "metadata": {
        "colab": {
          "base_uri": "https://localhost:8080/"
        },
        "id": "LPLPyISSYIbo",
        "outputId": "3845aa68-a436-4f80-fb76-d1e8f160208a"
      },
      "source": [
        "#Desafio 055 - Maior e menor peso de 5 pessoas\n",
        "for p in range(1, 6):\n",
        "  peso=float(input('Peso da {}ª pessoa: '.format(p)))\n",
        "  if p == 1:\n",
        "    maior=peso\n",
        "    menor=peso\n",
        "  else:\n",
        "    if peso>maior:\n",
        "      maior = peso\n",
        "    if peso<menor:\n",
        "      menor = peso  \n",
        "print('O maior peso foi de {}kg'.format(maior))\n",
        "print('O menor peso foi de {}kg'.format(menor))"
      ],
      "execution_count": null,
      "outputs": [
        {
          "output_type": "stream",
          "name": "stdout",
          "text": [
            "Peso da 1ª pessoa: 1\n",
            "Peso da 2ª pessoa: 2\n",
            "Peso da 3ª pessoa: 3\n",
            "Peso da 4ª pessoa: 4\n",
            "Peso da 5ª pessoa: 5\n",
            "O maior peso foi de 5.0kg\n",
            "O menor peso foi de 1.0kg\n"
          ]
        }
      ]
    },
    {
      "cell_type": "code",
      "metadata": {
        "colab": {
          "base_uri": "https://localhost:8080/"
        },
        "id": "8sAkgwXHbcab",
        "outputId": "e6538ed4-8e60-4d21-f46c-c3498df7aa5b"
      },
      "source": [
        "#Desafio 056 - Nome, idade e sexo de 4 pessoas. Calcular a media de idade do grupo, \n",
        "#o nome do homem mais velho e quantas mulheres com menos de 20 anos\n",
        "idade=0\n",
        "homem=0\n",
        "mulheres=0\n",
        "for p in range(1, 5):\n",
        "  n=str(input('Digite seu nome: '))\n",
        "  i=int(input('Digite sua idade: '))\n",
        "  s=str(input('Digite seu sexo: '))\n",
        "  idade=idade+i\n",
        "  if s=='masculino':\n",
        "    if i>homem:\n",
        "      homem=i\n",
        "      nome=n\n",
        "  if s=='feminino':\n",
        "    if i<20:\n",
        "      mulheres=mulheres+1\n",
        "\n",
        "print('A idade média do grupo é {} anos'.format(idade/p))\n",
        "print('O nome do homem mais velho é {}'.format(nome))\n",
        "print('A quantidade de mulher(es) com menos de 20 anos é {}'.format(mulheres))"
      ],
      "execution_count": null,
      "outputs": [
        {
          "output_type": "stream",
          "name": "stdout",
          "text": [
            "Digite seu nome: ana\n",
            "Digite sua idade: 25\n",
            "Digite seu sexo: feminino\n",
            "Digite seu nome: helio\n",
            "Digite sua idade: 40\n",
            "Digite seu sexo: masculino\n",
            "Digite seu nome: bia\n",
            "Digite sua idade: 16\n",
            "Digite seu sexo: feminino\n",
            "Digite seu nome: joao\n",
            "Digite sua idade: 90\n",
            "Digite seu sexo: masculino\n",
            "A idade média do grupo é 42.75 anos\n",
            "O nome do homem mais velho é joao\n",
            "A quantidade de mulher(es) com menos de 20 anos é 1\n"
          ]
        }
      ]
    },
    {
      "cell_type": "markdown",
      "metadata": {
        "id": "Dvk0UQ2w5MmT"
      },
      "source": [
        "# **Estrutura de repetição while**"
      ]
    },
    {
      "cell_type": "code",
      "metadata": {
        "colab": {
          "base_uri": "https://localhost:8080/"
        },
        "id": "4LcmNkUDkBOA",
        "outputId": "2f65c9b4-9926-44d2-9f76-697a4eb93173"
      },
      "source": [
        "c=1\n",
        "while c <10:\n",
        "  print(c)\n",
        "  c=c+1\n",
        "print('Fim')"
      ],
      "execution_count": null,
      "outputs": [
        {
          "output_type": "stream",
          "name": "stdout",
          "text": [
            "1\n",
            "2\n",
            "3\n",
            "4\n",
            "5\n",
            "6\n",
            "7\n",
            "8\n",
            "9\n",
            "Fim\n"
          ]
        }
      ]
    },
    {
      "cell_type": "code",
      "metadata": {
        "colab": {
          "base_uri": "https://localhost:8080/"
        },
        "id": "yB2ME6-jl2g9",
        "outputId": "84a3e0f6-a2c6-4256-f684-764c79bd872f"
      },
      "source": [
        "#Desafio 057 - Digite seu sexo. Caso não seja 'M' ou 'F', peça para digitar novamente até um valor correto\n",
        "#upper()[0] e so a primeira letra\n",
        "s=(str(input('Digite seu sexo [M/F]: '))).strip().upper()[0]\n",
        "while s not in 'MmFf':\n",
        "  s=(str(input('Dados inválidos. Digite novamente por favor: '))).strip().upper()[0]\n",
        "print('{}'.format(s))"
      ],
      "execution_count": null,
      "outputs": [
        {
          "output_type": "stream",
          "name": "stdout",
          "text": [
            "Digite seu sexo [M/F]: bh\n",
            "Dados inválidos. Digite novamente por favor: cugf\n",
            "Dados inválidos. Digite novamente por favor: z\n",
            "Dados inválidos. Digite novamente por favor: f\n",
            "F\n"
          ]
        }
      ]
    },
    {
      "cell_type": "code",
      "metadata": {
        "colab": {
          "base_uri": "https://localhost:8080/"
        },
        "id": "DDbJTgQIopjl",
        "outputId": "96c0582c-b877-4a8a-9560-93b078f3de8c"
      },
      "source": [
        "#Desafio 058 - Jogo advinhar de 0 a 10\n",
        "from random import randint\n",
        "computador=randint(0,10)\n",
        "c=0\n",
        "j=(int(input('Advinhe um número de 0 a 10! ')))\n",
        "while j!=computador:\n",
        "  j=(int(input('Tente novamente: ')))\n",
        "  c+=1\n",
        "print('Você acertou na {}ª tentativa'.format(c))"
      ],
      "execution_count": null,
      "outputs": [
        {
          "output_type": "stream",
          "name": "stdout",
          "text": [
            "Advinhe um número de 0 a 10! 1\n",
            "Tente novamente: 2\n",
            "Tente novamente: 3\n",
            "Você acertou na 2ª tentativa\n"
          ]
        }
      ]
    },
    {
      "cell_type": "code",
      "metadata": {
        "colab": {
          "base_uri": "https://localhost:8080/"
        },
        "id": "UdRZJw-xsgsG",
        "outputId": "890c2ed7-1eaa-44a3-bf6c-fecaa21707b6"
      },
      "source": [
        "#Desafio 060 - Calculo de fatorial\n",
        "n=int(input('Digite um número para saber seu fatorial: '))\n",
        "f=n\n",
        "t=1\n",
        "while n>0:\n",
        "  print('{}'.format(n), end='')\n",
        "  print(' x ' if n>1 else ' = ', end='')\n",
        "  t=t*n\n",
        "  n-=1\n",
        "print('{}'.format(t))"
      ],
      "execution_count": null,
      "outputs": [
        {
          "output_type": "stream",
          "name": "stdout",
          "text": [
            "Digite um número para saber seu fatorial: 5\n",
            "5 x 4 x 3 x 2 x 1 = 120\n"
          ]
        }
      ]
    },
    {
      "cell_type": "code",
      "metadata": {
        "colab": {
          "base_uri": "https://localhost:8080/"
        },
        "id": "nRr7-fhHzpmc",
        "outputId": "11c4b89b-8a61-4588-991d-5fb34b310ff2"
      },
      "source": [
        "#Desafio 061 - Mostrar os 10 primeiros termos de uma PA\n",
        "p=int(input('Digite o primeiro termo: '))\n",
        "r=int(input('Digite a razão: '))\n",
        "n=0\n",
        "while n<11:\n",
        "  p=p+r\n",
        "  print(p)\n",
        "  n+=1"
      ],
      "execution_count": null,
      "outputs": [
        {
          "output_type": "stream",
          "name": "stdout",
          "text": [
            "Digite o primeiro termo: 2\n",
            "Digite a razão: 3\n",
            "5\n",
            "8\n",
            "11\n",
            "14\n",
            "17\n",
            "20\n",
            "23\n",
            "26\n",
            "29\n",
            "32\n",
            "35\n"
          ]
        }
      ]
    },
    {
      "cell_type": "code",
      "metadata": {
        "colab": {
          "base_uri": "https://localhost:8080/"
        },
        "id": "59S6EdWqXZLn",
        "outputId": "011f1c6f-bd86-4814-d176-73c87fe934aa"
      },
      "source": [
        "#Desafio 062 - Quer continuar?\n",
        "p=int(input('Digite o primeiro termo: '))\n",
        "r=int(input('Digite a razão: '))\n",
        "n=0\n",
        "total=0\n",
        "mais=10\n",
        "while mais != 0:\n",
        "  total=total +mais\n",
        "  while n<=total:\n",
        "    p=p+r\n",
        "    print(p)\n",
        "    n+=1\n",
        "  mais=int(input('Quantos elementos a mais você quer? '))\n",
        "print('Fim')"
      ],
      "execution_count": null,
      "outputs": [
        {
          "output_type": "stream",
          "name": "stdout",
          "text": [
            "Digite o primeiro termo: 0\n",
            "Digite a razão: 2\n",
            "2\n",
            "4\n",
            "6\n",
            "8\n",
            "10\n",
            "12\n",
            "14\n",
            "16\n",
            "18\n",
            "20\n",
            "22\n",
            "Quantos elementos a mais você quer? 7\n",
            "24\n",
            "26\n",
            "28\n",
            "30\n",
            "32\n",
            "34\n",
            "36\n",
            "Quantos elementos a mais você quer? 0\n",
            "Fim\n"
          ]
        }
      ]
    },
    {
      "cell_type": "code",
      "metadata": {
        "colab": {
          "base_uri": "https://localhost:8080/"
        },
        "id": "mQF3sosFZXrF",
        "outputId": "d8afc46f-5a60-48f0-c93e-8682f33db386"
      },
      "source": [
        "#Desafio 063 - Mostre os 'n' primeiros elementos da sequencia de Fibonacci e.g., 0 - 1 - 1 - 2 - 3 - 5 - 8\n",
        "n=int(input('Quantos elementos da sequência de fibonacci você quer? '))\n",
        "a=0\n",
        "b=1\n",
        "i=0\n",
        "\n",
        "while i<n:\n",
        "  if i<1:\n",
        "    print(a)\n",
        "    i+=1\n",
        "  elif i==2:\n",
        "    print(b)\n",
        "    i+=1\n",
        "  else:\n",
        "    c=a+b\n",
        "    print(c)\n",
        "    a=b\n",
        "    b=c\n",
        "    #print('b {}'.format(b))\n",
        "    i+=1"
      ],
      "execution_count": null,
      "outputs": [
        {
          "output_type": "stream",
          "name": "stdout",
          "text": [
            "Quantos elementos da sequência de fibonacci você quer? 15\n",
            "0\n",
            "1\n",
            "1\n",
            "2\n",
            "3\n",
            "5\n",
            "8\n",
            "13\n",
            "21\n",
            "34\n",
            "55\n",
            "89\n",
            "144\n",
            "233\n",
            "377\n"
          ]
        }
      ]
    },
    {
      "cell_type": "markdown",
      "metadata": {
        "id": "GAxUOsFAAKZ2"
      },
      "source": [
        "# **Interrompendo uma estrutura de repetição**"
      ]
    },
    {
      "cell_type": "code",
      "metadata": {
        "colab": {
          "base_uri": "https://localhost:8080/"
        },
        "id": "jsqoMFTH_iMv",
        "outputId": "1080b764-c3b5-49fe-b828-752e87dd5b0a"
      },
      "source": [
        "n=s=0\n",
        "while True:\n",
        "  n=int(input('Digite um número: '))\n",
        "  if n == 999:\n",
        "    break\n",
        "  s+=n\n",
        "#print('A soma vale {}.format(s))\n",
        "print(f'A soma vale {s}')"
      ],
      "execution_count": null,
      "outputs": [
        {
          "output_type": "stream",
          "name": "stdout",
          "text": [
            "Digite um número: 1\n",
            "Digite um número: 2\n",
            "Digite um número: 3\n",
            "Digite um número: 999\n",
            "A soma vale 6\n"
          ]
        }
      ]
    },
    {
      "cell_type": "code",
      "metadata": {
        "colab": {
          "base_uri": "https://localhost:8080/"
        },
        "id": "iJprgQs3Ap7o",
        "outputId": "a4800116-a866-49c1-fddc-6cd98fc1e774"
      },
      "source": [
        "nome='José'\n",
        "idade=33\n",
        "salario=987.35\n",
        "print(f'O {nome:->20} tem {idade} anos e ganha R${salario:.2f}')"
      ],
      "execution_count": null,
      "outputs": [
        {
          "output_type": "stream",
          "name": "stdout",
          "text": [
            "O ----------------José tem 33 anos e ganha R$987.35\n"
          ]
        }
      ]
    },
    {
      "cell_type": "code",
      "metadata": {
        "colab": {
          "base_uri": "https://localhost:8080/"
        },
        "id": "UNWFqKWxBmec",
        "outputId": "2e84dcc4-1896-46dc-983e-836ed343e201"
      },
      "source": [
        "#Desafio 066 - Quantos numeros foram digitados e qual a soma entre eles\n",
        "n=s=c=0\n",
        "while True:\n",
        "  n=int(input('Digite um número: '))\n",
        "\n",
        "  if n == 999:\n",
        "    break\n",
        "  s+=n\n",
        "  c+=1\n",
        "print(f'A soma vale {s}. Foram digitados {c} números')"
      ],
      "execution_count": null,
      "outputs": [
        {
          "output_type": "stream",
          "name": "stdout",
          "text": [
            "Digite um número: 1\n",
            "Digite um número: 2\n",
            "Digite um número: 3\n",
            "Digite um número: 999\n",
            "A soma vale 6. Foram digitados 3 números\n"
          ]
        }
      ]
    },
    {
      "cell_type": "code",
      "metadata": {
        "colab": {
          "base_uri": "https://localhost:8080/"
        },
        "id": "1zeJhbGBC-E9",
        "outputId": "4d7b6259-a5e8-4ed9-a22b-6a0dda75f217"
      },
      "source": [
        "#Desafio 067 - Tabuada que para quando for digitado um numero negativo\n",
        "while True:\n",
        "  n=0\n",
        "  a=(int(input('Digite um número:')))\n",
        "  print('-='*11)\n",
        "  if a <0:\n",
        "      print('Exit application')\n",
        "      break\n",
        "  while n<11: \n",
        "    print(f'{a}X{n:<5}= {a*n}')\n",
        "    n+=1"
      ],
      "execution_count": null,
      "outputs": [
        {
          "output_type": "stream",
          "name": "stdout",
          "text": [
            "Digite um número:2\n",
            "-=-=-=-=-=-=-=-=-=-=-=\n",
            "2X0    = 0\n",
            "2X1    = 2\n",
            "2X2    = 4\n",
            "2X3    = 6\n",
            "2X4    = 8\n",
            "2X5    = 10\n",
            "2X6    = 12\n",
            "2X7    = 14\n",
            "2X8    = 16\n",
            "2X9    = 18\n",
            "2X10   = 20\n",
            "Digite um número:2\n",
            "-=-=-=-=-=-=-=-=-=-=-=\n",
            "2X0    = 0\n",
            "2X1    = 2\n",
            "2X2    = 4\n",
            "2X3    = 6\n",
            "2X4    = 8\n",
            "2X5    = 10\n",
            "2X6    = 12\n",
            "2X7    = 14\n",
            "2X8    = 16\n",
            "2X9    = 18\n",
            "2X10   = 20\n",
            "Digite um número:3\n",
            "-=-=-=-=-=-=-=-=-=-=-=\n",
            "3X0    = 0\n",
            "3X1    = 3\n",
            "3X2    = 6\n",
            "3X3    = 9\n",
            "3X4    = 12\n",
            "3X5    = 15\n",
            "3X6    = 18\n",
            "3X7    = 21\n",
            "3X8    = 24\n",
            "3X9    = 27\n",
            "3X10   = 30\n",
            "Digite um número:-1\n",
            "-=-=-=-=-=-=-=-=-=-=-=\n",
            "Exit application\n"
          ]
        }
      ]
    },
    {
      "cell_type": "code",
      "metadata": {
        "id": "4SrIGCEdGAs0",
        "colab": {
          "base_uri": "https://localhost:8080/"
        },
        "outputId": "091296ec-bc34-4692-b787-021443b0d3df"
      },
      "source": [
        "#Desafio 068 - jogo par ou impar com o computador\n",
        "from random import randint\n",
        "c=0\n",
        "while True:\n",
        "  computador=randint(0,6)\n",
        "  pi=randint(0,1)\n",
        "  if pi==0:\n",
        "    print('o computador escolheu par!\\n')\n",
        "    print('-='*11)\n",
        "  else:\n",
        "    print('o computador escolheu ímpar!\\n')\n",
        "    print('-='*11)\n",
        "  j=int(input('jogue um número entre 0 e 5\\n'))\n",
        "  resultado=j+computador\n",
        "  if resultado%2 == 0: #Se o somatorio for par\n",
        "    if pi == 0: #Se o computador escolheu par\n",
        "      print('Jogador perdeu \\n')\n",
        "      break\n",
        "    elif pi ==1: #Se o computador escolheu impar\n",
        "      print('Jogador venceu \\n')\n",
        "      c+=1\n",
        "  else: #Se o somatorio for impar\n",
        "    if pi == 0: #Se o computador escolheu par\n",
        "      print('Jogador venceu \\n')\n",
        "      c+=1\n",
        "    elif pi ==1: #Se o computador escolheu impar\n",
        "      print('Jogador perdeu \\n')\n",
        "      break\n",
        "print(f'O jogador atingiu uma sequência de vitórias de {c} jogos(s)!') "
      ],
      "execution_count": null,
      "outputs": [
        {
          "output_type": "stream",
          "name": "stdout",
          "text": [
            "o computador escolheu par!\n",
            "\n",
            "-=-=-=-=-=-=-=-=-=-=-=\n",
            "jogue um número entre 0 e 5\n",
            "2\n",
            "Jogador venceu \n",
            "\n",
            "o computador escolheu ímpar!\n",
            "\n",
            "-=-=-=-=-=-=-=-=-=-=-=\n",
            "jogue um número entre 0 e 5\n",
            "1\n",
            "Jogador venceu \n",
            "\n",
            "o computador escolheu par!\n",
            "\n",
            "-=-=-=-=-=-=-=-=-=-=-=\n",
            "jogue um número entre 0 e 5\n",
            "3\n",
            "Jogador perdeu \n",
            "\n",
            "O jogador atingiu uma sequência de vitórias de 2 jogos(s)!\n"
          ]
        }
      ]
    },
    {
      "cell_type": "code",
      "metadata": {
        "colab": {
          "base_uri": "https://localhost:8080/"
        },
        "id": "GqQ1EBXzdC22",
        "outputId": "28bc1953-f2c9-4f2a-9778-58c7e9fc81e3"
      },
      "source": [
        "#Desafio 069 - Um programa que leia a idade e o sexo de pessoas. O programa pergunta 'quer continuar?' e no final mostra: \n",
        "#quantas pessoas com mais de 18 anos; quantos homens cadastrados, quantas mulheres com menos de 20 anos.\n",
        "a=0\n",
        "b=0\n",
        "c=0\n",
        "while True:\n",
        "  i=int(input('Qual é a idade? \\n'))\n",
        "  s =' '\n",
        "  while s not in 'MF':\n",
        "    s=str(input('Qual é o sexo [M/F]? \\n')).strip().upper()[0]\n",
        "  if i>18:\n",
        "    a+=1\n",
        "  if s=='M':\n",
        "    b+=1\n",
        "  if s=='F':\n",
        "    if i<20:\n",
        "      c+=1\n",
        "  resp=' '\n",
        "  while resp not in 'SN':\n",
        "    resp=str(input('Quer continuar? [S/N] \\n')).strip().upper()[0]\n",
        "  if resp == 'N':\n",
        "    break\n",
        "print(f'''Acabou\\n\n",
        "      {a} pessoa(s) com mais de 18 anos \\n\n",
        "      {b} homens cadastrados \\n\n",
        "      {c} mulheres com menos de 20 anos''')"
      ],
      "execution_count": null,
      "outputs": [
        {
          "output_type": "stream",
          "name": "stdout",
          "text": [
            "Qual é a idade? \n",
            "25\n",
            "Qual é o sexo [M/F]? \n",
            "m\n",
            "Quer continuar? [S/N] \n",
            "s\n",
            "Qual é a idade? \n",
            "30\n",
            "Qual é o sexo [M/F]? \n",
            "m\n",
            "Quer continuar? [S/N] \n",
            "s\n",
            "Qual é a idade? \n",
            "18\n",
            "Qual é o sexo [M/F]? \n",
            "f\n",
            "Quer continuar? [S/N] \n",
            "s\n",
            "Qual é a idade? \n",
            "19\n",
            "Qual é o sexo [M/F]? \n",
            "f\n",
            "Quer continuar? [S/N] \n",
            "s\n",
            "Qual é a idade? \n",
            "17\n",
            "Qual é o sexo [M/F]? \n",
            "m\n",
            "Quer continuar? [S/N] \n",
            "s\n",
            "Qual é a idade? \n",
            "17\n",
            "Qual é o sexo [M/F]? \n",
            "f\n",
            "Quer continuar? [S/N] \n",
            "n\n",
            "Acabou\n",
            "\n",
            "      3 pessoa(s) com mais de 18 anos \n",
            "\n",
            "      3 homens cadastrados \n",
            "\n",
            "      3 mulheres com menos de 20 anos\n"
          ]
        }
      ]
    }
  ]
}